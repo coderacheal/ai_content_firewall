{
 "cells": [
  {
   "cell_type": "markdown",
   "metadata": {},
   "source": [
    "## **AI Content Firewall for Kids - Kids.ai**"
   ]
  },
  {
   "cell_type": "markdown",
   "metadata": {},
   "source": [
    "### `Business Understanding`"
   ]
  },
  {
   "cell_type": "markdown",
   "metadata": {},
   "source": [
    "### `Data Understanding`"
   ]
  },
  {
   "cell_type": "code",
   "execution_count": 3,
   "metadata": {},
   "outputs": [
    {
     "name": "stderr",
     "output_type": "stream",
     "text": [
      "C:\\Users\\rache\\AppData\\Local\\Temp\\ipykernel_32456\\619468304.py:6: DeprecationWarning: 'imghdr' is deprecated and slated for removal in Python 3.13\n",
      "  import imghdr\n"
     ]
    },
    {
     "name": "stdout",
     "output_type": "stream",
     "text": [
      "2.18.0\n"
     ]
    }
   ],
   "source": [
    "import cv2\n",
    "import os\n",
    "import numpy as np\n",
    "import pandas as pd\n",
    "import plotly.express as px\n",
    "import imghdr\n",
    "import csv\n",
    "\n",
    "from matplotlib import pyplot as plt\n",
    "import tensorflow as tf\n",
    "\n",
    "print(tf.__version__)"
   ]
  },
  {
   "cell_type": "markdown",
   "metadata": {},
   "source": [
    "#### **Load data set**"
   ]
  },
  {
   "cell_type": "code",
   "execution_count": 5,
   "metadata": {},
   "outputs": [
    {
     "data": {
      "application/vnd.microsoft.datawrangler.viewer.v0+json": {
       "columns": [
        {
         "name": "index",
         "rawType": "int64",
         "type": "integer"
        },
        {
         "name": "Subset",
         "rawType": "object",
         "type": "string"
        },
        {
         "name": "Label",
         "rawType": "object",
         "type": "string"
        },
        {
         "name": "Video Name",
         "rawType": "object",
         "type": "string"
        },
        {
         "name": "Frame Number",
         "rawType": "int64",
         "type": "integer"
        },
        {
         "name": "Timestamp (s)",
         "rawType": "float64",
         "type": "float"
        },
        {
         "name": "Image Path",
         "rawType": "object",
         "type": "string"
        }
       ],
       "conversionMethod": "pd.DataFrame",
       "ref": "d060a836-7418-4a2c-800d-2f98ff4a62c9",
       "rows": [
        [
         "0",
         "train",
         "Adult Content",
         "10h30.tong106thaithinh_7224744031518035205",
         "0",
         "0.0",
         "extracted_frames\\train\\Adult Content\\10h30.tong106thaithinh_7224744031518035205_frame_0.jpg"
        ],
        [
         "1",
         "train",
         "Adult Content",
         "10h30.tong106thaithinh_7224744031518035205",
         "360",
         "12.0",
         "extracted_frames\\train\\Adult Content\\10h30.tong106thaithinh_7224744031518035205_frame_360.jpg"
        ],
        [
         "2",
         "train",
         "Adult Content",
         "1991.music.dj_7053983190456765722",
         "0",
         "0.0",
         "extracted_frames\\train\\Adult Content\\1991.music.dj_7053983190456765722_frame_0.jpg"
        ],
        [
         "3",
         "train",
         "Adult Content",
         "199namm_7254949499859225861",
         "0",
         "0.0",
         "extracted_frames\\train\\Adult Content\\199namm_7254949499859225861_frame_0.jpg"
        ],
        [
         "4",
         "train",
         "Adult Content",
         "1life.anthonyblane_7283159583516790021",
         "0",
         "0.0",
         "extracted_frames\\train\\Adult Content\\1life.anthonyblane_7283159583516790021_frame_0.jpg"
        ]
       ],
       "shape": {
        "columns": 6,
        "rows": 5
       }
      },
      "text/html": [
       "<div>\n",
       "<style scoped>\n",
       "    .dataframe tbody tr th:only-of-type {\n",
       "        vertical-align: middle;\n",
       "    }\n",
       "\n",
       "    .dataframe tbody tr th {\n",
       "        vertical-align: top;\n",
       "    }\n",
       "\n",
       "    .dataframe thead th {\n",
       "        text-align: right;\n",
       "    }\n",
       "</style>\n",
       "<table border=\"1\" class=\"dataframe\">\n",
       "  <thead>\n",
       "    <tr style=\"text-align: right;\">\n",
       "      <th></th>\n",
       "      <th>Subset</th>\n",
       "      <th>Label</th>\n",
       "      <th>Video Name</th>\n",
       "      <th>Frame Number</th>\n",
       "      <th>Timestamp (s)</th>\n",
       "      <th>Image Path</th>\n",
       "    </tr>\n",
       "  </thead>\n",
       "  <tbody>\n",
       "    <tr>\n",
       "      <th>0</th>\n",
       "      <td>train</td>\n",
       "      <td>Adult Content</td>\n",
       "      <td>10h30.tong106thaithinh_7224744031518035205</td>\n",
       "      <td>0</td>\n",
       "      <td>0.0</td>\n",
       "      <td>extracted_frames\\train\\Adult Content\\10h30.ton...</td>\n",
       "    </tr>\n",
       "    <tr>\n",
       "      <th>1</th>\n",
       "      <td>train</td>\n",
       "      <td>Adult Content</td>\n",
       "      <td>10h30.tong106thaithinh_7224744031518035205</td>\n",
       "      <td>360</td>\n",
       "      <td>12.0</td>\n",
       "      <td>extracted_frames\\train\\Adult Content\\10h30.ton...</td>\n",
       "    </tr>\n",
       "    <tr>\n",
       "      <th>2</th>\n",
       "      <td>train</td>\n",
       "      <td>Adult Content</td>\n",
       "      <td>1991.music.dj_7053983190456765722</td>\n",
       "      <td>0</td>\n",
       "      <td>0.0</td>\n",
       "      <td>extracted_frames\\train\\Adult Content\\1991.musi...</td>\n",
       "    </tr>\n",
       "    <tr>\n",
       "      <th>3</th>\n",
       "      <td>train</td>\n",
       "      <td>Adult Content</td>\n",
       "      <td>199namm_7254949499859225861</td>\n",
       "      <td>0</td>\n",
       "      <td>0.0</td>\n",
       "      <td>extracted_frames\\train\\Adult Content\\199namm_7...</td>\n",
       "    </tr>\n",
       "    <tr>\n",
       "      <th>4</th>\n",
       "      <td>train</td>\n",
       "      <td>Adult Content</td>\n",
       "      <td>1life.anthonyblane_7283159583516790021</td>\n",
       "      <td>0</td>\n",
       "      <td>0.0</td>\n",
       "      <td>extracted_frames\\train\\Adult Content\\1life.ant...</td>\n",
       "    </tr>\n",
       "  </tbody>\n",
       "</table>\n",
       "</div>"
      ],
      "text/plain": [
       "  Subset          Label                                  Video Name  \\\n",
       "0  train  Adult Content  10h30.tong106thaithinh_7224744031518035205   \n",
       "1  train  Adult Content  10h30.tong106thaithinh_7224744031518035205   \n",
       "2  train  Adult Content           1991.music.dj_7053983190456765722   \n",
       "3  train  Adult Content                 199namm_7254949499859225861   \n",
       "4  train  Adult Content      1life.anthonyblane_7283159583516790021   \n",
       "\n",
       "   Frame Number  Timestamp (s)  \\\n",
       "0             0            0.0   \n",
       "1           360           12.0   \n",
       "2             0            0.0   \n",
       "3             0            0.0   \n",
       "4             0            0.0   \n",
       "\n",
       "                                          Image Path  \n",
       "0  extracted_frames\\train\\Adult Content\\10h30.ton...  \n",
       "1  extracted_frames\\train\\Adult Content\\10h30.ton...  \n",
       "2  extracted_frames\\train\\Adult Content\\1991.musi...  \n",
       "3  extracted_frames\\train\\Adult Content\\199namm_7...  \n",
       "4  extracted_frames\\train\\Adult Content\\1life.ant...  "
      ]
     },
     "execution_count": 5,
     "metadata": {},
     "output_type": "execute_result"
    }
   ],
   "source": [
    "csv_file = \"../Dataset/frame_data.csv\"  \n",
    "video_image_df = pd.read_csv(csv_file)\n",
    "video_image_df.head()"
   ]
  },
  {
   "cell_type": "code",
   "execution_count": 6,
   "metadata": {},
   "outputs": [
    {
     "data": {
      "text/plain": [
       "(14499, 6)"
      ]
     },
     "execution_count": 6,
     "metadata": {},
     "output_type": "execute_result"
    }
   ],
   "source": [
    "video_image_df.shape"
   ]
  },
  {
   "cell_type": "code",
   "execution_count": 7,
   "metadata": {},
   "outputs": [],
   "source": [
    "video_image_df['Label'] = video_image_df['Label'].replace({\n",
    "    'Adult Content': 'Adult',\n",
    "    'Harmful Content': 'Harmful'\n",
    "})"
   ]
  },
  {
   "cell_type": "code",
   "execution_count": 8,
   "metadata": {},
   "outputs": [
    {
     "data": {
      "application/vnd.plotly.v1+json": {
       "config": {
        "plotlyServerURL": "https://plot.ly"
       },
       "data": [
        {
         "hovertemplate": "variable=train<br>Category=%{x}<br>Number of Transcriptions=%{y}<extra></extra>",
         "legendgroup": "train",
         "marker": {
          "color": "green",
          "pattern": {
           "shape": ""
          }
         },
         "name": "train",
         "orientation": "v",
         "showlegend": true,
         "textposition": "auto",
         "type": "bar",
         "x": [
          "Adult",
          "Harmful",
          "Safe",
          "Suicide"
         ],
         "xaxis": "x",
         "y": {
          "bdata": "PAlpCTgQyAQ=",
          "dtype": "i2"
         },
         "yaxis": "y"
        },
        {
         "hovertemplate": "variable=test<br>Category=%{x}<br>Number of Transcriptions=%{y}<extra></extra>",
         "legendgroup": "test",
         "marker": {
          "color": "orange",
          "pattern": {
           "shape": ""
          }
         },
         "name": "test",
         "orientation": "v",
         "showlegend": true,
         "textposition": "auto",
         "type": "bar",
         "x": [
          "Adult",
          "Harmful",
          "Safe",
          "Suicide"
         ],
         "xaxis": "x",
         "y": {
          "bdata": "sALLAmYEagE=",
          "dtype": "i2"
         },
         "yaxis": "y"
        },
        {
         "hovertemplate": "variable=val<br>Category=%{x}<br>Number of Transcriptions=%{y}<extra></extra>",
         "legendgroup": "val",
         "marker": {
          "color": "yellow",
          "pattern": {
           "shape": ""
          }
         },
         "name": "val",
         "orientation": "v",
         "showlegend": true,
         "textposition": "auto",
         "type": "bar",
         "x": [
          "Adult",
          "Harmful",
          "Safe",
          "Suicide"
         ],
         "xaxis": "x",
         "y": {
          "bdata": "gAEQAWoCuQA=",
          "dtype": "i2"
         },
         "yaxis": "y"
        }
       ],
       "layout": {
        "barmode": "stack",
        "legend": {
         "title": {
          "text": "variable"
         },
         "tracegroupgap": 0
        },
        "template": {
         "data": {
          "bar": [
           {
            "error_x": {
             "color": "#2a3f5f"
            },
            "error_y": {
             "color": "#2a3f5f"
            },
            "marker": {
             "line": {
              "color": "#E5ECF6",
              "width": 0.5
             },
             "pattern": {
              "fillmode": "overlay",
              "size": 10,
              "solidity": 0.2
             }
            },
            "type": "bar"
           }
          ],
          "barpolar": [
           {
            "marker": {
             "line": {
              "color": "#E5ECF6",
              "width": 0.5
             },
             "pattern": {
              "fillmode": "overlay",
              "size": 10,
              "solidity": 0.2
             }
            },
            "type": "barpolar"
           }
          ],
          "carpet": [
           {
            "aaxis": {
             "endlinecolor": "#2a3f5f",
             "gridcolor": "white",
             "linecolor": "white",
             "minorgridcolor": "white",
             "startlinecolor": "#2a3f5f"
            },
            "baxis": {
             "endlinecolor": "#2a3f5f",
             "gridcolor": "white",
             "linecolor": "white",
             "minorgridcolor": "white",
             "startlinecolor": "#2a3f5f"
            },
            "type": "carpet"
           }
          ],
          "choropleth": [
           {
            "colorbar": {
             "outlinewidth": 0,
             "ticks": ""
            },
            "type": "choropleth"
           }
          ],
          "contour": [
           {
            "colorbar": {
             "outlinewidth": 0,
             "ticks": ""
            },
            "colorscale": [
             [
              0,
              "#0d0887"
             ],
             [
              0.1111111111111111,
              "#46039f"
             ],
             [
              0.2222222222222222,
              "#7201a8"
             ],
             [
              0.3333333333333333,
              "#9c179e"
             ],
             [
              0.4444444444444444,
              "#bd3786"
             ],
             [
              0.5555555555555556,
              "#d8576b"
             ],
             [
              0.6666666666666666,
              "#ed7953"
             ],
             [
              0.7777777777777778,
              "#fb9f3a"
             ],
             [
              0.8888888888888888,
              "#fdca26"
             ],
             [
              1,
              "#f0f921"
             ]
            ],
            "type": "contour"
           }
          ],
          "contourcarpet": [
           {
            "colorbar": {
             "outlinewidth": 0,
             "ticks": ""
            },
            "type": "contourcarpet"
           }
          ],
          "heatmap": [
           {
            "colorbar": {
             "outlinewidth": 0,
             "ticks": ""
            },
            "colorscale": [
             [
              0,
              "#0d0887"
             ],
             [
              0.1111111111111111,
              "#46039f"
             ],
             [
              0.2222222222222222,
              "#7201a8"
             ],
             [
              0.3333333333333333,
              "#9c179e"
             ],
             [
              0.4444444444444444,
              "#bd3786"
             ],
             [
              0.5555555555555556,
              "#d8576b"
             ],
             [
              0.6666666666666666,
              "#ed7953"
             ],
             [
              0.7777777777777778,
              "#fb9f3a"
             ],
             [
              0.8888888888888888,
              "#fdca26"
             ],
             [
              1,
              "#f0f921"
             ]
            ],
            "type": "heatmap"
           }
          ],
          "histogram": [
           {
            "marker": {
             "pattern": {
              "fillmode": "overlay",
              "size": 10,
              "solidity": 0.2
             }
            },
            "type": "histogram"
           }
          ],
          "histogram2d": [
           {
            "colorbar": {
             "outlinewidth": 0,
             "ticks": ""
            },
            "colorscale": [
             [
              0,
              "#0d0887"
             ],
             [
              0.1111111111111111,
              "#46039f"
             ],
             [
              0.2222222222222222,
              "#7201a8"
             ],
             [
              0.3333333333333333,
              "#9c179e"
             ],
             [
              0.4444444444444444,
              "#bd3786"
             ],
             [
              0.5555555555555556,
              "#d8576b"
             ],
             [
              0.6666666666666666,
              "#ed7953"
             ],
             [
              0.7777777777777778,
              "#fb9f3a"
             ],
             [
              0.8888888888888888,
              "#fdca26"
             ],
             [
              1,
              "#f0f921"
             ]
            ],
            "type": "histogram2d"
           }
          ],
          "histogram2dcontour": [
           {
            "colorbar": {
             "outlinewidth": 0,
             "ticks": ""
            },
            "colorscale": [
             [
              0,
              "#0d0887"
             ],
             [
              0.1111111111111111,
              "#46039f"
             ],
             [
              0.2222222222222222,
              "#7201a8"
             ],
             [
              0.3333333333333333,
              "#9c179e"
             ],
             [
              0.4444444444444444,
              "#bd3786"
             ],
             [
              0.5555555555555556,
              "#d8576b"
             ],
             [
              0.6666666666666666,
              "#ed7953"
             ],
             [
              0.7777777777777778,
              "#fb9f3a"
             ],
             [
              0.8888888888888888,
              "#fdca26"
             ],
             [
              1,
              "#f0f921"
             ]
            ],
            "type": "histogram2dcontour"
           }
          ],
          "mesh3d": [
           {
            "colorbar": {
             "outlinewidth": 0,
             "ticks": ""
            },
            "type": "mesh3d"
           }
          ],
          "parcoords": [
           {
            "line": {
             "colorbar": {
              "outlinewidth": 0,
              "ticks": ""
             }
            },
            "type": "parcoords"
           }
          ],
          "pie": [
           {
            "automargin": true,
            "type": "pie"
           }
          ],
          "scatter": [
           {
            "fillpattern": {
             "fillmode": "overlay",
             "size": 10,
             "solidity": 0.2
            },
            "type": "scatter"
           }
          ],
          "scatter3d": [
           {
            "line": {
             "colorbar": {
              "outlinewidth": 0,
              "ticks": ""
             }
            },
            "marker": {
             "colorbar": {
              "outlinewidth": 0,
              "ticks": ""
             }
            },
            "type": "scatter3d"
           }
          ],
          "scattercarpet": [
           {
            "marker": {
             "colorbar": {
              "outlinewidth": 0,
              "ticks": ""
             }
            },
            "type": "scattercarpet"
           }
          ],
          "scattergeo": [
           {
            "marker": {
             "colorbar": {
              "outlinewidth": 0,
              "ticks": ""
             }
            },
            "type": "scattergeo"
           }
          ],
          "scattergl": [
           {
            "marker": {
             "colorbar": {
              "outlinewidth": 0,
              "ticks": ""
             }
            },
            "type": "scattergl"
           }
          ],
          "scattermap": [
           {
            "marker": {
             "colorbar": {
              "outlinewidth": 0,
              "ticks": ""
             }
            },
            "type": "scattermap"
           }
          ],
          "scattermapbox": [
           {
            "marker": {
             "colorbar": {
              "outlinewidth": 0,
              "ticks": ""
             }
            },
            "type": "scattermapbox"
           }
          ],
          "scatterpolar": [
           {
            "marker": {
             "colorbar": {
              "outlinewidth": 0,
              "ticks": ""
             }
            },
            "type": "scatterpolar"
           }
          ],
          "scatterpolargl": [
           {
            "marker": {
             "colorbar": {
              "outlinewidth": 0,
              "ticks": ""
             }
            },
            "type": "scatterpolargl"
           }
          ],
          "scatterternary": [
           {
            "marker": {
             "colorbar": {
              "outlinewidth": 0,
              "ticks": ""
             }
            },
            "type": "scatterternary"
           }
          ],
          "surface": [
           {
            "colorbar": {
             "outlinewidth": 0,
             "ticks": ""
            },
            "colorscale": [
             [
              0,
              "#0d0887"
             ],
             [
              0.1111111111111111,
              "#46039f"
             ],
             [
              0.2222222222222222,
              "#7201a8"
             ],
             [
              0.3333333333333333,
              "#9c179e"
             ],
             [
              0.4444444444444444,
              "#bd3786"
             ],
             [
              0.5555555555555556,
              "#d8576b"
             ],
             [
              0.6666666666666666,
              "#ed7953"
             ],
             [
              0.7777777777777778,
              "#fb9f3a"
             ],
             [
              0.8888888888888888,
              "#fdca26"
             ],
             [
              1,
              "#f0f921"
             ]
            ],
            "type": "surface"
           }
          ],
          "table": [
           {
            "cells": {
             "fill": {
              "color": "#EBF0F8"
             },
             "line": {
              "color": "white"
             }
            },
            "header": {
             "fill": {
              "color": "#C8D4E3"
             },
             "line": {
              "color": "white"
             }
            },
            "type": "table"
           }
          ]
         },
         "layout": {
          "annotationdefaults": {
           "arrowcolor": "#2a3f5f",
           "arrowhead": 0,
           "arrowwidth": 1
          },
          "autotypenumbers": "strict",
          "coloraxis": {
           "colorbar": {
            "outlinewidth": 0,
            "ticks": ""
           }
          },
          "colorscale": {
           "diverging": [
            [
             0,
             "#8e0152"
            ],
            [
             0.1,
             "#c51b7d"
            ],
            [
             0.2,
             "#de77ae"
            ],
            [
             0.3,
             "#f1b6da"
            ],
            [
             0.4,
             "#fde0ef"
            ],
            [
             0.5,
             "#f7f7f7"
            ],
            [
             0.6,
             "#e6f5d0"
            ],
            [
             0.7,
             "#b8e186"
            ],
            [
             0.8,
             "#7fbc41"
            ],
            [
             0.9,
             "#4d9221"
            ],
            [
             1,
             "#276419"
            ]
           ],
           "sequential": [
            [
             0,
             "#0d0887"
            ],
            [
             0.1111111111111111,
             "#46039f"
            ],
            [
             0.2222222222222222,
             "#7201a8"
            ],
            [
             0.3333333333333333,
             "#9c179e"
            ],
            [
             0.4444444444444444,
             "#bd3786"
            ],
            [
             0.5555555555555556,
             "#d8576b"
            ],
            [
             0.6666666666666666,
             "#ed7953"
            ],
            [
             0.7777777777777778,
             "#fb9f3a"
            ],
            [
             0.8888888888888888,
             "#fdca26"
            ],
            [
             1,
             "#f0f921"
            ]
           ],
           "sequentialminus": [
            [
             0,
             "#0d0887"
            ],
            [
             0.1111111111111111,
             "#46039f"
            ],
            [
             0.2222222222222222,
             "#7201a8"
            ],
            [
             0.3333333333333333,
             "#9c179e"
            ],
            [
             0.4444444444444444,
             "#bd3786"
            ],
            [
             0.5555555555555556,
             "#d8576b"
            ],
            [
             0.6666666666666666,
             "#ed7953"
            ],
            [
             0.7777777777777778,
             "#fb9f3a"
            ],
            [
             0.8888888888888888,
             "#fdca26"
            ],
            [
             1,
             "#f0f921"
            ]
           ]
          },
          "colorway": [
           "#636efa",
           "#EF553B",
           "#00cc96",
           "#ab63fa",
           "#FFA15A",
           "#19d3f3",
           "#FF6692",
           "#B6E880",
           "#FF97FF",
           "#FECB52"
          ],
          "font": {
           "color": "#2a3f5f"
          },
          "geo": {
           "bgcolor": "white",
           "lakecolor": "white",
           "landcolor": "#E5ECF6",
           "showlakes": true,
           "showland": true,
           "subunitcolor": "white"
          },
          "hoverlabel": {
           "align": "left"
          },
          "hovermode": "closest",
          "mapbox": {
           "style": "light"
          },
          "paper_bgcolor": "white",
          "plot_bgcolor": "#E5ECF6",
          "polar": {
           "angularaxis": {
            "gridcolor": "white",
            "linecolor": "white",
            "ticks": ""
           },
           "bgcolor": "#E5ECF6",
           "radialaxis": {
            "gridcolor": "white",
            "linecolor": "white",
            "ticks": ""
           }
          },
          "scene": {
           "xaxis": {
            "backgroundcolor": "#E5ECF6",
            "gridcolor": "white",
            "gridwidth": 2,
            "linecolor": "white",
            "showbackground": true,
            "ticks": "",
            "zerolinecolor": "white"
           },
           "yaxis": {
            "backgroundcolor": "#E5ECF6",
            "gridcolor": "white",
            "gridwidth": 2,
            "linecolor": "white",
            "showbackground": true,
            "ticks": "",
            "zerolinecolor": "white"
           },
           "zaxis": {
            "backgroundcolor": "#E5ECF6",
            "gridcolor": "white",
            "gridwidth": 2,
            "linecolor": "white",
            "showbackground": true,
            "ticks": "",
            "zerolinecolor": "white"
           }
          },
          "shapedefaults": {
           "line": {
            "color": "#2a3f5f"
           }
          },
          "ternary": {
           "aaxis": {
            "gridcolor": "white",
            "linecolor": "white",
            "ticks": ""
           },
           "baxis": {
            "gridcolor": "white",
            "linecolor": "white",
            "ticks": ""
           },
           "bgcolor": "#E5ECF6",
           "caxis": {
            "gridcolor": "white",
            "linecolor": "white",
            "ticks": ""
           }
          },
          "title": {
           "x": 0.05
          },
          "xaxis": {
           "automargin": true,
           "gridcolor": "white",
           "linecolor": "white",
           "ticks": "",
           "title": {
            "standoff": 15
           },
           "zerolinecolor": "white",
           "zerolinewidth": 2
          },
          "yaxis": {
           "automargin": true,
           "gridcolor": "white",
           "linecolor": "white",
           "ticks": "",
           "title": {
            "standoff": 15
           },
           "zerolinecolor": "white",
           "zerolinewidth": 2
          }
         }
        },
        "title": {
         "text": "Class Distribution Across Train, Val, and Test"
        },
        "xaxis": {
         "anchor": "y",
         "domain": [
          0,
          1
         ],
         "title": {
          "text": "Category"
         }
        },
        "yaxis": {
         "anchor": "x",
         "domain": [
          0,
          1
         ],
         "title": {
          "text": "Number of Transcriptions"
         }
        }
       }
      }
     },
     "metadata": {},
     "output_type": "display_data"
    }
   ],
   "source": [
    "# Count the occurrences of each label per subset\n",
    "subset_counts = video_image_df.groupby([\"Label\", \"Subset\"]).size().reset_index(name=\"Count\")\n",
    "\n",
    "# Pivot the data to get a stacked format\n",
    "pivot_df = subset_counts.pivot(index=\"Label\", columns=\"Subset\", values=\"Count\").fillna(0)\n",
    "\n",
    "# Plot the stacked bar chart using Plotly\n",
    "fig = px.bar(pivot_df, \n",
    "             x=pivot_df.index, \n",
    "             y=[\"train\", \"test\", \"val\"], \n",
    "             title=\"Class Distribution Across Train, Val, and Test\",\n",
    "             labels={\"value\": \"Number of Transcriptions\", \"Label\": \"Category\"},\n",
    "             color_discrete_map={\"train\": \"green\", \"test\": \"orange\", \"val\": \"yellow\"},\n",
    "             barmode=\"stack\")\n",
    "\n",
    "# Show the plot\n",
    "fig.show()"
   ]
  },
  {
   "cell_type": "code",
   "execution_count": 9,
   "metadata": {},
   "outputs": [
    {
     "data": {
      "application/vnd.microsoft.datawrangler.viewer.v0+json": {
       "columns": [
        {
         "name": "index",
         "rawType": "int64",
         "type": "integer"
        },
        {
         "name": "Label",
         "rawType": "object",
         "type": "string"
        },
        {
         "name": "Image Path",
         "rawType": "object",
         "type": "string"
        }
       ],
       "conversionMethod": "pd.DataFrame",
       "ref": "1049f167-6ec9-4fff-bb83-396c6c363964",
       "rows": [
        [
         "0",
         "Adult",
         "extracted_frames\\train\\Adult Content\\10h30.tong106thaithinh_7224744031518035205_frame_0.jpg"
        ],
        [
         "1",
         "Adult",
         "extracted_frames\\train\\Adult Content\\10h30.tong106thaithinh_7224744031518035205_frame_360.jpg"
        ],
        [
         "2",
         "Adult",
         "extracted_frames\\train\\Adult Content\\1991.music.dj_7053983190456765722_frame_0.jpg"
        ],
        [
         "3",
         "Adult",
         "extracted_frames\\train\\Adult Content\\199namm_7254949499859225861_frame_0.jpg"
        ],
        [
         "4",
         "Adult",
         "extracted_frames\\train\\Adult Content\\1life.anthonyblane_7283159583516790021_frame_0.jpg"
        ]
       ],
       "shape": {
        "columns": 2,
        "rows": 5
       }
      },
      "text/html": [
       "<div>\n",
       "<style scoped>\n",
       "    .dataframe tbody tr th:only-of-type {\n",
       "        vertical-align: middle;\n",
       "    }\n",
       "\n",
       "    .dataframe tbody tr th {\n",
       "        vertical-align: top;\n",
       "    }\n",
       "\n",
       "    .dataframe thead th {\n",
       "        text-align: right;\n",
       "    }\n",
       "</style>\n",
       "<table border=\"1\" class=\"dataframe\">\n",
       "  <thead>\n",
       "    <tr style=\"text-align: right;\">\n",
       "      <th></th>\n",
       "      <th>Label</th>\n",
       "      <th>Image Path</th>\n",
       "    </tr>\n",
       "  </thead>\n",
       "  <tbody>\n",
       "    <tr>\n",
       "      <th>0</th>\n",
       "      <td>Adult</td>\n",
       "      <td>extracted_frames\\train\\Adult Content\\10h30.ton...</td>\n",
       "    </tr>\n",
       "    <tr>\n",
       "      <th>1</th>\n",
       "      <td>Adult</td>\n",
       "      <td>extracted_frames\\train\\Adult Content\\10h30.ton...</td>\n",
       "    </tr>\n",
       "    <tr>\n",
       "      <th>2</th>\n",
       "      <td>Adult</td>\n",
       "      <td>extracted_frames\\train\\Adult Content\\1991.musi...</td>\n",
       "    </tr>\n",
       "    <tr>\n",
       "      <th>3</th>\n",
       "      <td>Adult</td>\n",
       "      <td>extracted_frames\\train\\Adult Content\\199namm_7...</td>\n",
       "    </tr>\n",
       "    <tr>\n",
       "      <th>4</th>\n",
       "      <td>Adult</td>\n",
       "      <td>extracted_frames\\train\\Adult Content\\1life.ant...</td>\n",
       "    </tr>\n",
       "  </tbody>\n",
       "</table>\n",
       "</div>"
      ],
      "text/plain": [
       "   Label                                         Image Path\n",
       "0  Adult  extracted_frames\\train\\Adult Content\\10h30.ton...\n",
       "1  Adult  extracted_frames\\train\\Adult Content\\10h30.ton...\n",
       "2  Adult  extracted_frames\\train\\Adult Content\\1991.musi...\n",
       "3  Adult  extracted_frames\\train\\Adult Content\\199namm_7...\n",
       "4  Adult  extracted_frames\\train\\Adult Content\\1life.ant..."
      ]
     },
     "execution_count": 9,
     "metadata": {},
     "output_type": "execute_result"
    }
   ],
   "source": [
    "video_image_df.drop(columns=['Subset', 'Video Name', 'Frame Number', 'Timestamp (s)'], inplace = True)\n",
    "video_image_df.head()"
   ]
  },
  {
   "cell_type": "code",
   "execution_count": 10,
   "metadata": {},
   "outputs": [
    {
     "data": {
      "text/plain": [
       "array(['Adult', 'Harmful', 'Safe', 'Suicide'], dtype=object)"
      ]
     },
     "execution_count": 10,
     "metadata": {},
     "output_type": "execute_result"
    }
   ],
   "source": [
    "video_image_df['Label'].unique()"
   ]
  },
  {
   "cell_type": "code",
   "execution_count": 11,
   "metadata": {},
   "outputs": [
    {
     "data": {
      "text/plain": [
       "Label\n",
       "Safe       5896\n",
       "Adult      3436\n",
       "Harmful    3396\n",
       "Suicide    1771\n",
       "Name: count, dtype: int64"
      ]
     },
     "execution_count": 11,
     "metadata": {},
     "output_type": "execute_result"
    }
   ],
   "source": [
    "video_image_df['Label'].value_counts()"
   ]
  },
  {
   "cell_type": "markdown",
   "metadata": {},
   "source": [
    "#### **Load Additional images from the web**"
   ]
  },
  {
   "cell_type": "code",
   "execution_count": 12,
   "metadata": {},
   "outputs": [],
   "source": [
    "# Path to your top-level folder with subfolders \"adult\", \"harmful\", \"suicide\", etc.\n",
    "data_dir = \"../Dataset/web_images\"\n",
    "\n",
    "# Valid image extensions that imghdr might return\n",
    "image_exts = {\"jpeg\", \"jpg\", \"bmp\", \"png\"}\n",
    "\n",
    "for label_folder in os.listdir(data_dir):\n",
    "    folder_path = os.path.join(data_dir, label_folder)\n",
    "    \n",
    "    # Skip if it's not a directory\n",
    "    if not os.path.isdir(folder_path):\n",
    "        continue\n",
    "    \n",
    "    for image_file in os.listdir(folder_path):\n",
    "        image_path = os.path.join(folder_path, image_file)\n",
    "\n",
    "        # Skip if it's not a file\n",
    "        if not os.path.isfile(image_path):\n",
    "            continue\n",
    "\n",
    "        try:\n",
    "            # Check if imghdr recognizes the file type\n",
    "            file_type = imghdr.what(image_path)\n",
    "            \n",
    "            # If the file type is None or not in our valid set, remove the file\n",
    "            if file_type not in image_exts:\n",
    "                print(f\"Removing invalid file: {image_path}\")\n",
    "                os.remove(image_path)\n",
    "\n",
    "        except Exception as e:\n",
    "            # If there's an error reading the file, you can choose to remove it\n",
    "            print(f\"Issue with image {image_path}, error: {e}\")\n",
    "            # os.remove(image_path)  # Uncomment if you want to remove on error\n"
   ]
  },
  {
   "cell_type": "code",
   "execution_count": 13,
   "metadata": {},
   "outputs": [
    {
     "name": "stdout",
     "output_type": "stream",
     "text": [
      "CSV file created at: ../Dataset/web_images_data.csv\n"
     ]
    }
   ],
   "source": [
    "def create_image_csv(root_dir, output_csv):\n",
    "    \"\"\"\n",
    "    Creates a CSV file listing image paths and their labels based on subfolder names.\n",
    "\n",
    "    :param root_dir: Path to the directory containing the web_images subfolders.\n",
    "    :param output_csv: Name/path for the CSV output file.\n",
    "    \"\"\"\n",
    "    # Collect data in a list before writing to CSV\n",
    "    data = []\n",
    "    \n",
    "    # Loop through each subfolder in web_images\n",
    "    for label_folder in os.listdir(root_dir):\n",
    "        folder_path = os.path.join(root_dir, label_folder)\n",
    "\n",
    "        # Skip any files or hidden folders, only process directories\n",
    "        if not os.path.isdir(folder_path):\n",
    "            continue\n",
    "\n",
    "        # For each image in the subfolder, create an entry\n",
    "        for img_file in os.listdir(folder_path):\n",
    "            img_path = os.path.join(folder_path, img_file)\n",
    "            \n",
    "            # Ensure it's actually a file (and presumably an image)\n",
    "            if os.path.isfile(img_path):\n",
    "                # Append (label, image_path) tuple\n",
    "                data.append((label_folder, img_path))\n",
    "    \n",
    "    # Write to CSV\n",
    "    with open(output_csv, 'w', newline='', encoding='utf-8') as csvfile:\n",
    "        writer = csv.writer(csvfile)\n",
    "        # Write header\n",
    "        writer.writerow(['Label', 'Image Path',])\n",
    "        # Write data rows\n",
    "        for label, path in data:\n",
    "            writer.writerow([label, path])\n",
    "\n",
    "if __name__ == \"__main__\":\n",
    "    # Adjust paths as needed\n",
    "    web_images_dir = \"../Dataset/web_images\"\n",
    "    output_csv_path = \"../Dataset/web_images_data.csv\"\n",
    "    create_image_csv(web_images_dir, output_csv_path)\n",
    "    print(f\"CSV file created at: {output_csv_path}\")\n"
   ]
  },
  {
   "cell_type": "code",
   "execution_count": 14,
   "metadata": {},
   "outputs": [
    {
     "data": {
      "application/vnd.microsoft.datawrangler.viewer.v0+json": {
       "columns": [
        {
         "name": "index",
         "rawType": "int64",
         "type": "integer"
        },
        {
         "name": "Label",
         "rawType": "object",
         "type": "string"
        },
        {
         "name": "Image Path",
         "rawType": "object",
         "type": "string"
        }
       ],
       "conversionMethod": "pd.DataFrame",
       "ref": "bc93b542-6910-4065-900f-b0fb6532b10b",
       "rows": [
        [
         "0",
         "adult",
         "../Dataset/web_images\\adult\\th (2).jpg"
        ],
        [
         "1",
         "adult",
         "../Dataset/web_images\\adult\\th (3).jpg"
        ],
        [
         "2",
         "adult",
         "../Dataset/web_images\\adult\\th (4).jpg"
        ],
        [
         "3",
         "adult",
         "../Dataset/web_images\\adult\\th.jpg"
        ],
        [
         "4",
         "adult",
         "../Dataset/web_images\\adult\\th10 (2).jpg"
        ]
       ],
       "shape": {
        "columns": 2,
        "rows": 5
       }
      },
      "text/html": [
       "<div>\n",
       "<style scoped>\n",
       "    .dataframe tbody tr th:only-of-type {\n",
       "        vertical-align: middle;\n",
       "    }\n",
       "\n",
       "    .dataframe tbody tr th {\n",
       "        vertical-align: top;\n",
       "    }\n",
       "\n",
       "    .dataframe thead th {\n",
       "        text-align: right;\n",
       "    }\n",
       "</style>\n",
       "<table border=\"1\" class=\"dataframe\">\n",
       "  <thead>\n",
       "    <tr style=\"text-align: right;\">\n",
       "      <th></th>\n",
       "      <th>Label</th>\n",
       "      <th>Image Path</th>\n",
       "    </tr>\n",
       "  </thead>\n",
       "  <tbody>\n",
       "    <tr>\n",
       "      <th>0</th>\n",
       "      <td>adult</td>\n",
       "      <td>../Dataset/web_images\\adult\\th (2).jpg</td>\n",
       "    </tr>\n",
       "    <tr>\n",
       "      <th>1</th>\n",
       "      <td>adult</td>\n",
       "      <td>../Dataset/web_images\\adult\\th (3).jpg</td>\n",
       "    </tr>\n",
       "    <tr>\n",
       "      <th>2</th>\n",
       "      <td>adult</td>\n",
       "      <td>../Dataset/web_images\\adult\\th (4).jpg</td>\n",
       "    </tr>\n",
       "    <tr>\n",
       "      <th>3</th>\n",
       "      <td>adult</td>\n",
       "      <td>../Dataset/web_images\\adult\\th.jpg</td>\n",
       "    </tr>\n",
       "    <tr>\n",
       "      <th>4</th>\n",
       "      <td>adult</td>\n",
       "      <td>../Dataset/web_images\\adult\\th10 (2).jpg</td>\n",
       "    </tr>\n",
       "  </tbody>\n",
       "</table>\n",
       "</div>"
      ],
      "text/plain": [
       "   Label                                Image Path\n",
       "0  adult    ../Dataset/web_images\\adult\\th (2).jpg\n",
       "1  adult    ../Dataset/web_images\\adult\\th (3).jpg\n",
       "2  adult    ../Dataset/web_images\\adult\\th (4).jpg\n",
       "3  adult        ../Dataset/web_images\\adult\\th.jpg\n",
       "4  adult  ../Dataset/web_images\\adult\\th10 (2).jpg"
      ]
     },
     "execution_count": 14,
     "metadata": {},
     "output_type": "execute_result"
    }
   ],
   "source": [
    "web_images_df = pd.read_csv(\"../Dataset/web_images_data.csv\")\n",
    "web_images_df.head()"
   ]
  },
  {
   "cell_type": "code",
   "execution_count": 15,
   "metadata": {},
   "outputs": [
    {
     "data": {
      "text/plain": [
       "Label\n",
       "adult      1474\n",
       "harmful     734\n",
       "suicide     256\n",
       "Name: count, dtype: int64"
      ]
     },
     "execution_count": 15,
     "metadata": {},
     "output_type": "execute_result"
    }
   ],
   "source": [
    "web_images_df['Label'].value_counts()"
   ]
  },
  {
   "cell_type": "code",
   "execution_count": 16,
   "metadata": {},
   "outputs": [
    {
     "data": {
      "text/plain": [
       "array(['adult', 'harmful', 'suicide'], dtype=object)"
      ]
     },
     "execution_count": 16,
     "metadata": {},
     "output_type": "execute_result"
    }
   ],
   "source": [
    "web_images_df['Label'].unique()"
   ]
  },
  {
   "cell_type": "code",
   "execution_count": 17,
   "metadata": {},
   "outputs": [
    {
     "data": {
      "text/plain": [
       "Label\n",
       "adult      1474\n",
       "harmful     734\n",
       "suicide     256\n",
       "Name: count, dtype: int64"
      ]
     },
     "execution_count": 17,
     "metadata": {},
     "output_type": "execute_result"
    }
   ],
   "source": [
    "web_images_df['Label'].value_counts()"
   ]
  },
  {
   "cell_type": "code",
   "execution_count": 18,
   "metadata": {},
   "outputs": [],
   "source": [
    "# Replace specific values in the 'Label' column\n",
    "web_images_df['Label'] = web_images_df['Label'].replace({\n",
    "    'adult': 'Adult',\n",
    "    'harmful': 'Harmful',\n",
    "    'suicide': 'Suicide'\n",
    "})"
   ]
  },
  {
   "cell_type": "code",
   "execution_count": 19,
   "metadata": {},
   "outputs": [
    {
     "data": {
      "text/plain": [
       "array(['Adult', 'Harmful', 'Suicide'], dtype=object)"
      ]
     },
     "execution_count": 19,
     "metadata": {},
     "output_type": "execute_result"
    }
   ],
   "source": [
    "web_images_df['Label'].unique()"
   ]
  },
  {
   "cell_type": "markdown",
   "metadata": {},
   "source": [
    "#### **Join the 2 Image datasets**"
   ]
  },
  {
   "cell_type": "code",
   "execution_count": 20,
   "metadata": {},
   "outputs": [
    {
     "data": {
      "application/vnd.microsoft.datawrangler.viewer.v0+json": {
       "columns": [
        {
         "name": "index",
         "rawType": "int64",
         "type": "integer"
        },
        {
         "name": "Label",
         "rawType": "object",
         "type": "string"
        },
        {
         "name": "Image Path",
         "rawType": "object",
         "type": "string"
        }
       ],
       "conversionMethod": "pd.DataFrame",
       "ref": "60926913-51e3-4637-aab5-90a08f83f12b",
       "rows": [
        [
         "0",
         "Adult",
         "extracted_frames\\train\\Adult Content\\10h30.tong106thaithinh_7224744031518035205_frame_0.jpg"
        ],
        [
         "1",
         "Adult",
         "extracted_frames\\train\\Adult Content\\10h30.tong106thaithinh_7224744031518035205_frame_360.jpg"
        ],
        [
         "2",
         "Adult",
         "extracted_frames\\train\\Adult Content\\1991.music.dj_7053983190456765722_frame_0.jpg"
        ],
        [
         "3",
         "Adult",
         "extracted_frames\\train\\Adult Content\\199namm_7254949499859225861_frame_0.jpg"
        ],
        [
         "4",
         "Adult",
         "extracted_frames\\train\\Adult Content\\1life.anthonyblane_7283159583516790021_frame_0.jpg"
        ],
        [
         "5",
         "Adult",
         "extracted_frames\\train\\Adult Content\\1life.anthonyblane_7283159583516790021_frame_360.jpg"
        ],
        [
         "6",
         "Adult",
         "extracted_frames\\train\\Adult Content\\1life.anthonyblane_7325491930031328517_frame_0.jpg"
        ],
        [
         "7",
         "Adult",
         "extracted_frames\\train\\Adult Content\\1life.anthonyblane_7325491930031328517_frame_360.jpg"
        ],
        [
         "8",
         "Adult",
         "extracted_frames\\train\\Adult Content\\1life.anthonyblane_7349106675585928456_frame_0.jpg"
        ],
        [
         "9",
         "Adult",
         "extracted_frames\\train\\Adult Content\\1life.anthonyblane_7349106675585928456_frame_360.jpg"
        ],
        [
         "10",
         "Adult",
         "extracted_frames\\train\\Adult Content\\1life.anthonyblane_7352444832087870727_frame_0.jpg"
        ],
        [
         "11",
         "Adult",
         "extracted_frames\\train\\Adult Content\\1life.anthonyblane_7352444832087870727_frame_360.jpg"
        ],
        [
         "12",
         "Adult",
         "extracted_frames\\train\\Adult Content\\1life.anthonyblane_7352444832087870727_frame_720.jpg"
        ],
        [
         "13",
         "Adult",
         "extracted_frames\\train\\Adult Content\\1life.anthonyblane_7352444832087870727_frame_1080.jpg"
        ],
        [
         "14",
         "Adult",
         "extracted_frames\\train\\Adult Content\\1life.anthonyblane_7352444832087870727_frame_1440.jpg"
        ],
        [
         "15",
         "Adult",
         "extracted_frames\\train\\Adult Content\\1life.anthonyblane_7355844029520694546_frame_0.jpg"
        ],
        [
         "16",
         "Adult",
         "extracted_frames\\train\\Adult Content\\1life.anthonyblane_7355844029520694546_frame_360.jpg"
        ],
        [
         "17",
         "Adult",
         "extracted_frames\\train\\Adult Content\\1life.anthonyblane_7367371402330000658_frame_0.jpg"
        ],
        [
         "18",
         "Adult",
         "extracted_frames\\train\\Adult Content\\1life.anthonyblane_7367371402330000658_frame_360.jpg"
        ],
        [
         "19",
         "Adult",
         "extracted_frames\\train\\Adult Content\\1life.anthonyblane_7368846422709521671_frame_0.jpg"
        ],
        [
         "20",
         "Adult",
         "extracted_frames\\train\\Adult Content\\79.q.t_7304113372805467393_frame_0.jpg"
        ],
        [
         "21",
         "Adult",
         "extracted_frames\\train\\Adult Content\\79.q.t_7304113372805467393_frame_360.jpg"
        ],
        [
         "22",
         "Adult",
         "extracted_frames\\train\\Adult Content\\aaadulthealth_7265173082145295634_frame_0.jpg"
        ],
        [
         "23",
         "Adult",
         "extracted_frames\\train\\Adult Content\\aaadulthealth_7265173082145295634_frame_360.jpg"
        ],
        [
         "24",
         "Adult",
         "extracted_frames\\train\\Adult Content\\aaadulthealth_7265173082145295634_frame_720.jpg"
        ],
        [
         "25",
         "Adult",
         "extracted_frames\\train\\Adult Content\\aaadulthealth_7265173082145295634_frame_1080.jpg"
        ],
        [
         "26",
         "Adult",
         "extracted_frames\\train\\Adult Content\\abbies.luck_7248443415472377096_frame_0.jpg"
        ],
        [
         "27",
         "Adult",
         "extracted_frames\\train\\Adult Content\\abbies.luck_7248443415472377096_frame_360.jpg"
        ],
        [
         "28",
         "Adult",
         "extracted_frames\\train\\Adult Content\\abbies.luck_7248443415472377096_frame_720.jpg"
        ],
        [
         "29",
         "Adult",
         "extracted_frames\\train\\Adult Content\\abbies.luck_7248443415472377096_frame_1080.jpg"
        ],
        [
         "30",
         "Adult",
         "extracted_frames\\train\\Adult Content\\abbies.luck_7248443415472377096_frame_1440.jpg"
        ],
        [
         "31",
         "Adult",
         "extracted_frames\\train\\Adult Content\\actress.lanhuong_7341244326720113938_frame_0.jpg"
        ],
        [
         "32",
         "Adult",
         "extracted_frames\\train\\Adult Content\\actress.lanhuong_7341244326720113938_frame_360.jpg"
        ],
        [
         "33",
         "Adult",
         "extracted_frames\\train\\Adult Content\\akytube231206_6948939267137670402_frame_0.jpg"
        ],
        [
         "34",
         "Adult",
         "extracted_frames\\train\\Adult Content\\alalanka_6960360541252553990_frame_0.jpg"
        ],
        [
         "35",
         "Adult",
         "extracted_frames\\train\\Adult Content\\aleks.sn_7321082945224084768_frame_0.jpg"
        ],
        [
         "36",
         "Adult",
         "extracted_frames\\train\\Adult Content\\aleks.sn_7321082945224084768_frame_360.jpg"
        ],
        [
         "37",
         "Adult",
         "extracted_frames\\train\\Adult Content\\aleks.sn_7321082945224084768_frame_720.jpg"
        ],
        [
         "38",
         "Adult",
         "extracted_frames\\train\\Adult Content\\aleks.sn_7348451627688267041_frame_0.jpg"
        ],
        [
         "39",
         "Adult",
         "extracted_frames\\train\\Adult Content\\aliyevasim_7193744396246977794_frame_0.jpg"
        ],
        [
         "40",
         "Adult",
         "extracted_frames\\train\\Adult Content\\allaboutmikeworld_7343681661374156037_frame_0.jpg"
        ],
        [
         "41",
         "Adult",
         "extracted_frames\\train\\Adult Content\\allaboutmikeworld_7343681661374156037_frame_359.jpg"
        ],
        [
         "42",
         "Adult",
         "extracted_frames\\train\\Adult Content\\allaboutmikeworld_7343681661374156037_frame_718.jpg"
        ],
        [
         "43",
         "Adult",
         "extracted_frames\\train\\Adult Content\\allaboutmikeworld_7343681661374156037_frame_1077.jpg"
        ],
        [
         "44",
         "Adult",
         "extracted_frames\\train\\Adult Content\\allaboutmikeworld_7343681661374156037_frame_1436.jpg"
        ],
        [
         "45",
         "Adult",
         "extracted_frames\\train\\Adult Content\\allaboutmikeworld_7343681661374156037_frame_1795.jpg"
        ],
        [
         "46",
         "Adult",
         "extracted_frames\\train\\Adult Content\\allaboutmikeworld_7343681661374156037_frame_2154.jpg"
        ],
        [
         "47",
         "Adult",
         "extracted_frames\\train\\Adult Content\\allaboutmikeworld_7343681661374156037_frame_2513.jpg"
        ],
        [
         "48",
         "Adult",
         "extracted_frames\\train\\Adult Content\\allaboutmikeworld_7343681661374156037_frame_2872.jpg"
        ],
        [
         "49",
         "Adult",
         "extracted_frames\\train\\Adult Content\\allaboutmikeworld_7343681661374156037_frame_3231.jpg"
        ]
       ],
       "shape": {
        "columns": 2,
        "rows": 16963
       }
      },
      "text/html": [
       "<div>\n",
       "<style scoped>\n",
       "    .dataframe tbody tr th:only-of-type {\n",
       "        vertical-align: middle;\n",
       "    }\n",
       "\n",
       "    .dataframe tbody tr th {\n",
       "        vertical-align: top;\n",
       "    }\n",
       "\n",
       "    .dataframe thead th {\n",
       "        text-align: right;\n",
       "    }\n",
       "</style>\n",
       "<table border=\"1\" class=\"dataframe\">\n",
       "  <thead>\n",
       "    <tr style=\"text-align: right;\">\n",
       "      <th></th>\n",
       "      <th>Label</th>\n",
       "      <th>Image Path</th>\n",
       "    </tr>\n",
       "  </thead>\n",
       "  <tbody>\n",
       "    <tr>\n",
       "      <th>0</th>\n",
       "      <td>Adult</td>\n",
       "      <td>extracted_frames\\train\\Adult Content\\10h30.ton...</td>\n",
       "    </tr>\n",
       "    <tr>\n",
       "      <th>1</th>\n",
       "      <td>Adult</td>\n",
       "      <td>extracted_frames\\train\\Adult Content\\10h30.ton...</td>\n",
       "    </tr>\n",
       "    <tr>\n",
       "      <th>2</th>\n",
       "      <td>Adult</td>\n",
       "      <td>extracted_frames\\train\\Adult Content\\1991.musi...</td>\n",
       "    </tr>\n",
       "    <tr>\n",
       "      <th>3</th>\n",
       "      <td>Adult</td>\n",
       "      <td>extracted_frames\\train\\Adult Content\\199namm_7...</td>\n",
       "    </tr>\n",
       "    <tr>\n",
       "      <th>4</th>\n",
       "      <td>Adult</td>\n",
       "      <td>extracted_frames\\train\\Adult Content\\1life.ant...</td>\n",
       "    </tr>\n",
       "    <tr>\n",
       "      <th>...</th>\n",
       "      <td>...</td>\n",
       "      <td>...</td>\n",
       "    </tr>\n",
       "    <tr>\n",
       "      <th>2459</th>\n",
       "      <td>Suicide</td>\n",
       "      <td>../Dataset/web_images\\suicide\\th95.jpg</td>\n",
       "    </tr>\n",
       "    <tr>\n",
       "      <th>2460</th>\n",
       "      <td>Suicide</td>\n",
       "      <td>../Dataset/web_images\\suicide\\th96.jpg</td>\n",
       "    </tr>\n",
       "    <tr>\n",
       "      <th>2461</th>\n",
       "      <td>Suicide</td>\n",
       "      <td>../Dataset/web_images\\suicide\\th97.jpg</td>\n",
       "    </tr>\n",
       "    <tr>\n",
       "      <th>2462</th>\n",
       "      <td>Suicide</td>\n",
       "      <td>../Dataset/web_images\\suicide\\th98.jpg</td>\n",
       "    </tr>\n",
       "    <tr>\n",
       "      <th>2463</th>\n",
       "      <td>Suicide</td>\n",
       "      <td>../Dataset/web_images\\suicide\\th99.jpg</td>\n",
       "    </tr>\n",
       "  </tbody>\n",
       "</table>\n",
       "<p>16963 rows × 2 columns</p>\n",
       "</div>"
      ],
      "text/plain": [
       "        Label                                         Image Path\n",
       "0       Adult  extracted_frames\\train\\Adult Content\\10h30.ton...\n",
       "1       Adult  extracted_frames\\train\\Adult Content\\10h30.ton...\n",
       "2       Adult  extracted_frames\\train\\Adult Content\\1991.musi...\n",
       "3       Adult  extracted_frames\\train\\Adult Content\\199namm_7...\n",
       "4       Adult  extracted_frames\\train\\Adult Content\\1life.ant...\n",
       "...       ...                                                ...\n",
       "2459  Suicide             ../Dataset/web_images\\suicide\\th95.jpg\n",
       "2460  Suicide             ../Dataset/web_images\\suicide\\th96.jpg\n",
       "2461  Suicide             ../Dataset/web_images\\suicide\\th97.jpg\n",
       "2462  Suicide             ../Dataset/web_images\\suicide\\th98.jpg\n",
       "2463  Suicide             ../Dataset/web_images\\suicide\\th99.jpg\n",
       "\n",
       "[16963 rows x 2 columns]"
      ]
     },
     "execution_count": 20,
     "metadata": {},
     "output_type": "execute_result"
    }
   ],
   "source": [
    "df = pd.concat([video_image_df, web_images_df])\n",
    "df"
   ]
  },
  {
   "cell_type": "code",
   "execution_count": 21,
   "metadata": {},
   "outputs": [
    {
     "data": {
      "text/plain": [
       "(16963, 2)"
      ]
     },
     "execution_count": 21,
     "metadata": {},
     "output_type": "execute_result"
    }
   ],
   "source": [
    "df.shape"
   ]
  },
  {
   "cell_type": "code",
   "execution_count": 22,
   "metadata": {},
   "outputs": [
    {
     "data": {
      "text/plain": [
       "Label\n",
       "Safe       5896\n",
       "Adult      4910\n",
       "Harmful    4130\n",
       "Suicide    2027\n",
       "Name: count, dtype: int64"
      ]
     },
     "execution_count": 22,
     "metadata": {},
     "output_type": "execute_result"
    }
   ],
   "source": [
    "df['Label'].value_counts()"
   ]
  },
  {
   "cell_type": "markdown",
   "metadata": {},
   "source": [
    "#### **Exploratory Analysis**"
   ]
  },
  {
   "cell_type": "markdown",
   "metadata": {},
   "source": [
    "##### **Check data & class distribution**"
   ]
  },
  {
   "cell_type": "code",
   "execution_count": 23,
   "metadata": {},
   "outputs": [
    {
     "data": {
      "application/vnd.plotly.v1+json": {
       "config": {
        "plotlyServerURL": "https://plot.ly"
       },
       "data": [
        {
         "hovertemplate": "Labels=%{x}<br>Count=%{y}<extra></extra>",
         "legendgroup": "",
         "marker": {
          "color": "#636efa",
          "pattern": {
           "shape": ""
          }
         },
         "name": "",
         "orientation": "v",
         "showlegend": false,
         "textposition": "auto",
         "texttemplate": "%{y}",
         "type": "bar",
         "x": [
          "Safe",
          "Adult",
          "Harmful",
          "Suicide"
         ],
         "xaxis": "x",
         "y": {
          "bdata": "CBcuEyIQ6wc=",
          "dtype": "i2"
         },
         "yaxis": "y"
        }
       ],
       "layout": {
        "barmode": "relative",
        "legend": {
         "tracegroupgap": 0
        },
        "template": {
         "data": {
          "bar": [
           {
            "error_x": {
             "color": "#2a3f5f"
            },
            "error_y": {
             "color": "#2a3f5f"
            },
            "marker": {
             "line": {
              "color": "#E5ECF6",
              "width": 0.5
             },
             "pattern": {
              "fillmode": "overlay",
              "size": 10,
              "solidity": 0.2
             }
            },
            "type": "bar"
           }
          ],
          "barpolar": [
           {
            "marker": {
             "line": {
              "color": "#E5ECF6",
              "width": 0.5
             },
             "pattern": {
              "fillmode": "overlay",
              "size": 10,
              "solidity": 0.2
             }
            },
            "type": "barpolar"
           }
          ],
          "carpet": [
           {
            "aaxis": {
             "endlinecolor": "#2a3f5f",
             "gridcolor": "white",
             "linecolor": "white",
             "minorgridcolor": "white",
             "startlinecolor": "#2a3f5f"
            },
            "baxis": {
             "endlinecolor": "#2a3f5f",
             "gridcolor": "white",
             "linecolor": "white",
             "minorgridcolor": "white",
             "startlinecolor": "#2a3f5f"
            },
            "type": "carpet"
           }
          ],
          "choropleth": [
           {
            "colorbar": {
             "outlinewidth": 0,
             "ticks": ""
            },
            "type": "choropleth"
           }
          ],
          "contour": [
           {
            "colorbar": {
             "outlinewidth": 0,
             "ticks": ""
            },
            "colorscale": [
             [
              0,
              "#0d0887"
             ],
             [
              0.1111111111111111,
              "#46039f"
             ],
             [
              0.2222222222222222,
              "#7201a8"
             ],
             [
              0.3333333333333333,
              "#9c179e"
             ],
             [
              0.4444444444444444,
              "#bd3786"
             ],
             [
              0.5555555555555556,
              "#d8576b"
             ],
             [
              0.6666666666666666,
              "#ed7953"
             ],
             [
              0.7777777777777778,
              "#fb9f3a"
             ],
             [
              0.8888888888888888,
              "#fdca26"
             ],
             [
              1,
              "#f0f921"
             ]
            ],
            "type": "contour"
           }
          ],
          "contourcarpet": [
           {
            "colorbar": {
             "outlinewidth": 0,
             "ticks": ""
            },
            "type": "contourcarpet"
           }
          ],
          "heatmap": [
           {
            "colorbar": {
             "outlinewidth": 0,
             "ticks": ""
            },
            "colorscale": [
             [
              0,
              "#0d0887"
             ],
             [
              0.1111111111111111,
              "#46039f"
             ],
             [
              0.2222222222222222,
              "#7201a8"
             ],
             [
              0.3333333333333333,
              "#9c179e"
             ],
             [
              0.4444444444444444,
              "#bd3786"
             ],
             [
              0.5555555555555556,
              "#d8576b"
             ],
             [
              0.6666666666666666,
              "#ed7953"
             ],
             [
              0.7777777777777778,
              "#fb9f3a"
             ],
             [
              0.8888888888888888,
              "#fdca26"
             ],
             [
              1,
              "#f0f921"
             ]
            ],
            "type": "heatmap"
           }
          ],
          "histogram": [
           {
            "marker": {
             "pattern": {
              "fillmode": "overlay",
              "size": 10,
              "solidity": 0.2
             }
            },
            "type": "histogram"
           }
          ],
          "histogram2d": [
           {
            "colorbar": {
             "outlinewidth": 0,
             "ticks": ""
            },
            "colorscale": [
             [
              0,
              "#0d0887"
             ],
             [
              0.1111111111111111,
              "#46039f"
             ],
             [
              0.2222222222222222,
              "#7201a8"
             ],
             [
              0.3333333333333333,
              "#9c179e"
             ],
             [
              0.4444444444444444,
              "#bd3786"
             ],
             [
              0.5555555555555556,
              "#d8576b"
             ],
             [
              0.6666666666666666,
              "#ed7953"
             ],
             [
              0.7777777777777778,
              "#fb9f3a"
             ],
             [
              0.8888888888888888,
              "#fdca26"
             ],
             [
              1,
              "#f0f921"
             ]
            ],
            "type": "histogram2d"
           }
          ],
          "histogram2dcontour": [
           {
            "colorbar": {
             "outlinewidth": 0,
             "ticks": ""
            },
            "colorscale": [
             [
              0,
              "#0d0887"
             ],
             [
              0.1111111111111111,
              "#46039f"
             ],
             [
              0.2222222222222222,
              "#7201a8"
             ],
             [
              0.3333333333333333,
              "#9c179e"
             ],
             [
              0.4444444444444444,
              "#bd3786"
             ],
             [
              0.5555555555555556,
              "#d8576b"
             ],
             [
              0.6666666666666666,
              "#ed7953"
             ],
             [
              0.7777777777777778,
              "#fb9f3a"
             ],
             [
              0.8888888888888888,
              "#fdca26"
             ],
             [
              1,
              "#f0f921"
             ]
            ],
            "type": "histogram2dcontour"
           }
          ],
          "mesh3d": [
           {
            "colorbar": {
             "outlinewidth": 0,
             "ticks": ""
            },
            "type": "mesh3d"
           }
          ],
          "parcoords": [
           {
            "line": {
             "colorbar": {
              "outlinewidth": 0,
              "ticks": ""
             }
            },
            "type": "parcoords"
           }
          ],
          "pie": [
           {
            "automargin": true,
            "type": "pie"
           }
          ],
          "scatter": [
           {
            "fillpattern": {
             "fillmode": "overlay",
             "size": 10,
             "solidity": 0.2
            },
            "type": "scatter"
           }
          ],
          "scatter3d": [
           {
            "line": {
             "colorbar": {
              "outlinewidth": 0,
              "ticks": ""
             }
            },
            "marker": {
             "colorbar": {
              "outlinewidth": 0,
              "ticks": ""
             }
            },
            "type": "scatter3d"
           }
          ],
          "scattercarpet": [
           {
            "marker": {
             "colorbar": {
              "outlinewidth": 0,
              "ticks": ""
             }
            },
            "type": "scattercarpet"
           }
          ],
          "scattergeo": [
           {
            "marker": {
             "colorbar": {
              "outlinewidth": 0,
              "ticks": ""
             }
            },
            "type": "scattergeo"
           }
          ],
          "scattergl": [
           {
            "marker": {
             "colorbar": {
              "outlinewidth": 0,
              "ticks": ""
             }
            },
            "type": "scattergl"
           }
          ],
          "scattermap": [
           {
            "marker": {
             "colorbar": {
              "outlinewidth": 0,
              "ticks": ""
             }
            },
            "type": "scattermap"
           }
          ],
          "scattermapbox": [
           {
            "marker": {
             "colorbar": {
              "outlinewidth": 0,
              "ticks": ""
             }
            },
            "type": "scattermapbox"
           }
          ],
          "scatterpolar": [
           {
            "marker": {
             "colorbar": {
              "outlinewidth": 0,
              "ticks": ""
             }
            },
            "type": "scatterpolar"
           }
          ],
          "scatterpolargl": [
           {
            "marker": {
             "colorbar": {
              "outlinewidth": 0,
              "ticks": ""
             }
            },
            "type": "scatterpolargl"
           }
          ],
          "scatterternary": [
           {
            "marker": {
             "colorbar": {
              "outlinewidth": 0,
              "ticks": ""
             }
            },
            "type": "scatterternary"
           }
          ],
          "surface": [
           {
            "colorbar": {
             "outlinewidth": 0,
             "ticks": ""
            },
            "colorscale": [
             [
              0,
              "#0d0887"
             ],
             [
              0.1111111111111111,
              "#46039f"
             ],
             [
              0.2222222222222222,
              "#7201a8"
             ],
             [
              0.3333333333333333,
              "#9c179e"
             ],
             [
              0.4444444444444444,
              "#bd3786"
             ],
             [
              0.5555555555555556,
              "#d8576b"
             ],
             [
              0.6666666666666666,
              "#ed7953"
             ],
             [
              0.7777777777777778,
              "#fb9f3a"
             ],
             [
              0.8888888888888888,
              "#fdca26"
             ],
             [
              1,
              "#f0f921"
             ]
            ],
            "type": "surface"
           }
          ],
          "table": [
           {
            "cells": {
             "fill": {
              "color": "#EBF0F8"
             },
             "line": {
              "color": "white"
             }
            },
            "header": {
             "fill": {
              "color": "#C8D4E3"
             },
             "line": {
              "color": "white"
             }
            },
            "type": "table"
           }
          ]
         },
         "layout": {
          "annotationdefaults": {
           "arrowcolor": "#2a3f5f",
           "arrowhead": 0,
           "arrowwidth": 1
          },
          "autotypenumbers": "strict",
          "coloraxis": {
           "colorbar": {
            "outlinewidth": 0,
            "ticks": ""
           }
          },
          "colorscale": {
           "diverging": [
            [
             0,
             "#8e0152"
            ],
            [
             0.1,
             "#c51b7d"
            ],
            [
             0.2,
             "#de77ae"
            ],
            [
             0.3,
             "#f1b6da"
            ],
            [
             0.4,
             "#fde0ef"
            ],
            [
             0.5,
             "#f7f7f7"
            ],
            [
             0.6,
             "#e6f5d0"
            ],
            [
             0.7,
             "#b8e186"
            ],
            [
             0.8,
             "#7fbc41"
            ],
            [
             0.9,
             "#4d9221"
            ],
            [
             1,
             "#276419"
            ]
           ],
           "sequential": [
            [
             0,
             "#0d0887"
            ],
            [
             0.1111111111111111,
             "#46039f"
            ],
            [
             0.2222222222222222,
             "#7201a8"
            ],
            [
             0.3333333333333333,
             "#9c179e"
            ],
            [
             0.4444444444444444,
             "#bd3786"
            ],
            [
             0.5555555555555556,
             "#d8576b"
            ],
            [
             0.6666666666666666,
             "#ed7953"
            ],
            [
             0.7777777777777778,
             "#fb9f3a"
            ],
            [
             0.8888888888888888,
             "#fdca26"
            ],
            [
             1,
             "#f0f921"
            ]
           ],
           "sequentialminus": [
            [
             0,
             "#0d0887"
            ],
            [
             0.1111111111111111,
             "#46039f"
            ],
            [
             0.2222222222222222,
             "#7201a8"
            ],
            [
             0.3333333333333333,
             "#9c179e"
            ],
            [
             0.4444444444444444,
             "#bd3786"
            ],
            [
             0.5555555555555556,
             "#d8576b"
            ],
            [
             0.6666666666666666,
             "#ed7953"
            ],
            [
             0.7777777777777778,
             "#fb9f3a"
            ],
            [
             0.8888888888888888,
             "#fdca26"
            ],
            [
             1,
             "#f0f921"
            ]
           ]
          },
          "colorway": [
           "#636efa",
           "#EF553B",
           "#00cc96",
           "#ab63fa",
           "#FFA15A",
           "#19d3f3",
           "#FF6692",
           "#B6E880",
           "#FF97FF",
           "#FECB52"
          ],
          "font": {
           "color": "#2a3f5f"
          },
          "geo": {
           "bgcolor": "white",
           "lakecolor": "white",
           "landcolor": "#E5ECF6",
           "showlakes": true,
           "showland": true,
           "subunitcolor": "white"
          },
          "hoverlabel": {
           "align": "left"
          },
          "hovermode": "closest",
          "mapbox": {
           "style": "light"
          },
          "paper_bgcolor": "white",
          "plot_bgcolor": "#E5ECF6",
          "polar": {
           "angularaxis": {
            "gridcolor": "white",
            "linecolor": "white",
            "ticks": ""
           },
           "bgcolor": "#E5ECF6",
           "radialaxis": {
            "gridcolor": "white",
            "linecolor": "white",
            "ticks": ""
           }
          },
          "scene": {
           "xaxis": {
            "backgroundcolor": "#E5ECF6",
            "gridcolor": "white",
            "gridwidth": 2,
            "linecolor": "white",
            "showbackground": true,
            "ticks": "",
            "zerolinecolor": "white"
           },
           "yaxis": {
            "backgroundcolor": "#E5ECF6",
            "gridcolor": "white",
            "gridwidth": 2,
            "linecolor": "white",
            "showbackground": true,
            "ticks": "",
            "zerolinecolor": "white"
           },
           "zaxis": {
            "backgroundcolor": "#E5ECF6",
            "gridcolor": "white",
            "gridwidth": 2,
            "linecolor": "white",
            "showbackground": true,
            "ticks": "",
            "zerolinecolor": "white"
           }
          },
          "shapedefaults": {
           "line": {
            "color": "#2a3f5f"
           }
          },
          "ternary": {
           "aaxis": {
            "gridcolor": "white",
            "linecolor": "white",
            "ticks": ""
           },
           "baxis": {
            "gridcolor": "white",
            "linecolor": "white",
            "ticks": ""
           },
           "bgcolor": "#E5ECF6",
           "caxis": {
            "gridcolor": "white",
            "linecolor": "white",
            "ticks": ""
           }
          },
          "title": {
           "x": 0.05
          },
          "xaxis": {
           "automargin": true,
           "gridcolor": "white",
           "linecolor": "white",
           "ticks": "",
           "title": {
            "standoff": 15
           },
           "zerolinecolor": "white",
           "zerolinewidth": 2
          },
          "yaxis": {
           "automargin": true,
           "gridcolor": "white",
           "linecolor": "white",
           "ticks": "",
           "title": {
            "standoff": 15
           },
           "zerolinecolor": "white",
           "zerolinewidth": 2
          }
         }
        },
        "title": {
         "text": "Distribution of Labels in Dataset"
        },
        "xaxis": {
         "anchor": "y",
         "domain": [
          0,
          1
         ],
         "tickangle": 25,
         "title": {
          "text": "Labels"
         }
        },
        "yaxis": {
         "anchor": "x",
         "domain": [
          0,
          1
         ],
         "title": {
          "text": "Count"
         }
        }
       }
      }
     },
     "metadata": {},
     "output_type": "display_data"
    }
   ],
   "source": [
    "# Count the occurrences of each label\n",
    "label_counts = df[\"Label\"].value_counts().reset_index()\n",
    "label_counts.columns = [\"Label\", \"Count\"]\n",
    "\n",
    "# Create bar chart using Plotly\n",
    "fig = px.bar(\n",
    "    label_counts, \n",
    "    x=\"Label\", \n",
    "    y=\"Count\", \n",
    "    title=\"Distribution of Labels in Dataset\",\n",
    "    labels={\"Label\": \"Labels\", \"Count\": \"Count\"},\n",
    "    text_auto=True\n",
    ")\n",
    "\n",
    "# Update layout for better readability\n",
    "fig.update_layout(\n",
    "    xaxis_tickangle=25,\n",
    "    xaxis_title=\"Labels\",\n",
    "    yaxis_title=\"Count\"\n",
    ")\n",
    "\n",
    "# Show the chart\n",
    "fig.show()"
   ]
  },
  {
   "cell_type": "markdown",
   "metadata": {},
   "source": [
    "### `Data Preparation`"
   ]
  },
  {
   "cell_type": "code",
   "execution_count": 24,
   "metadata": {},
   "outputs": [
    {
     "data": {
      "application/vnd.microsoft.datawrangler.viewer.v0+json": {
       "columns": [
        {
         "name": "index",
         "rawType": "int64",
         "type": "integer"
        },
        {
         "name": "Label",
         "rawType": "object",
         "type": "string"
        },
        {
         "name": "Image Path",
         "rawType": "object",
         "type": "string"
        }
       ],
       "conversionMethod": "pd.DataFrame",
       "ref": "a7124a10-cf2d-4453-b66d-83113933ce2d",
       "rows": [
        [
         "0",
         "Adult",
         "extracted_frames\\train\\Adult Content\\10h30.tong106thaithinh_7224744031518035205_frame_0.jpg"
        ],
        [
         "1",
         "Adult",
         "extracted_frames\\train\\Adult Content\\10h30.tong106thaithinh_7224744031518035205_frame_360.jpg"
        ],
        [
         "2",
         "Adult",
         "extracted_frames\\train\\Adult Content\\1991.music.dj_7053983190456765722_frame_0.jpg"
        ],
        [
         "3",
         "Adult",
         "extracted_frames\\train\\Adult Content\\199namm_7254949499859225861_frame_0.jpg"
        ],
        [
         "4",
         "Adult",
         "extracted_frames\\train\\Adult Content\\1life.anthonyblane_7283159583516790021_frame_0.jpg"
        ]
       ],
       "shape": {
        "columns": 2,
        "rows": 5
       }
      },
      "text/html": [
       "<div>\n",
       "<style scoped>\n",
       "    .dataframe tbody tr th:only-of-type {\n",
       "        vertical-align: middle;\n",
       "    }\n",
       "\n",
       "    .dataframe tbody tr th {\n",
       "        vertical-align: top;\n",
       "    }\n",
       "\n",
       "    .dataframe thead th {\n",
       "        text-align: right;\n",
       "    }\n",
       "</style>\n",
       "<table border=\"1\" class=\"dataframe\">\n",
       "  <thead>\n",
       "    <tr style=\"text-align: right;\">\n",
       "      <th></th>\n",
       "      <th>Label</th>\n",
       "      <th>Image Path</th>\n",
       "    </tr>\n",
       "  </thead>\n",
       "  <tbody>\n",
       "    <tr>\n",
       "      <th>0</th>\n",
       "      <td>Adult</td>\n",
       "      <td>extracted_frames\\train\\Adult Content\\10h30.ton...</td>\n",
       "    </tr>\n",
       "    <tr>\n",
       "      <th>1</th>\n",
       "      <td>Adult</td>\n",
       "      <td>extracted_frames\\train\\Adult Content\\10h30.ton...</td>\n",
       "    </tr>\n",
       "    <tr>\n",
       "      <th>2</th>\n",
       "      <td>Adult</td>\n",
       "      <td>extracted_frames\\train\\Adult Content\\1991.musi...</td>\n",
       "    </tr>\n",
       "    <tr>\n",
       "      <th>3</th>\n",
       "      <td>Adult</td>\n",
       "      <td>extracted_frames\\train\\Adult Content\\199namm_7...</td>\n",
       "    </tr>\n",
       "    <tr>\n",
       "      <th>4</th>\n",
       "      <td>Adult</td>\n",
       "      <td>extracted_frames\\train\\Adult Content\\1life.ant...</td>\n",
       "    </tr>\n",
       "  </tbody>\n",
       "</table>\n",
       "</div>"
      ],
      "text/plain": [
       "   Label                                         Image Path\n",
       "0  Adult  extracted_frames\\train\\Adult Content\\10h30.ton...\n",
       "1  Adult  extracted_frames\\train\\Adult Content\\10h30.ton...\n",
       "2  Adult  extracted_frames\\train\\Adult Content\\1991.musi...\n",
       "3  Adult  extracted_frames\\train\\Adult Content\\199namm_7...\n",
       "4  Adult  extracted_frames\\train\\Adult Content\\1life.ant..."
      ]
     },
     "execution_count": 24,
     "metadata": {},
     "output_type": "execute_result"
    }
   ],
   "source": [
    "df.head()"
   ]
  },
  {
   "cell_type": "code",
   "execution_count": 25,
   "metadata": {},
   "outputs": [],
   "source": [
    "df[\"Image Path\"] = df[\"Image Path\"].apply(\n",
    "    lambda path: path.replace(\"extracted_frames\", \"..\\\\Dataset\\\\extracted_frames\", 1)\n",
    "    if path.startswith(\"extracted_frames\")\n",
    "    else path\n",
    ")"
   ]
  },
  {
   "cell_type": "code",
   "execution_count": 26,
   "metadata": {},
   "outputs": [
    {
     "data": {
      "application/vnd.microsoft.datawrangler.viewer.v0+json": {
       "columns": [
        {
         "name": "index",
         "rawType": "int64",
         "type": "integer"
        },
        {
         "name": "Label",
         "rawType": "object",
         "type": "string"
        },
        {
         "name": "Image Path",
         "rawType": "object",
         "type": "string"
        }
       ],
       "conversionMethod": "pd.DataFrame",
       "ref": "0ac90566-32da-4968-a9eb-b12c8d5f03a2",
       "rows": [
        [
         "0",
         "Adult",
         "..\\Dataset\\extracted_frames\\train\\Adult Content\\10h30.tong106thaithinh_7224744031518035205_frame_0.jpg"
        ],
        [
         "1",
         "Adult",
         "..\\Dataset\\extracted_frames\\train\\Adult Content\\10h30.tong106thaithinh_7224744031518035205_frame_360.jpg"
        ],
        [
         "2",
         "Adult",
         "..\\Dataset\\extracted_frames\\train\\Adult Content\\1991.music.dj_7053983190456765722_frame_0.jpg"
        ],
        [
         "3",
         "Adult",
         "..\\Dataset\\extracted_frames\\train\\Adult Content\\199namm_7254949499859225861_frame_0.jpg"
        ],
        [
         "4",
         "Adult",
         "..\\Dataset\\extracted_frames\\train\\Adult Content\\1life.anthonyblane_7283159583516790021_frame_0.jpg"
        ]
       ],
       "shape": {
        "columns": 2,
        "rows": 5
       }
      },
      "text/html": [
       "<div>\n",
       "<style scoped>\n",
       "    .dataframe tbody tr th:only-of-type {\n",
       "        vertical-align: middle;\n",
       "    }\n",
       "\n",
       "    .dataframe tbody tr th {\n",
       "        vertical-align: top;\n",
       "    }\n",
       "\n",
       "    .dataframe thead th {\n",
       "        text-align: right;\n",
       "    }\n",
       "</style>\n",
       "<table border=\"1\" class=\"dataframe\">\n",
       "  <thead>\n",
       "    <tr style=\"text-align: right;\">\n",
       "      <th></th>\n",
       "      <th>Label</th>\n",
       "      <th>Image Path</th>\n",
       "    </tr>\n",
       "  </thead>\n",
       "  <tbody>\n",
       "    <tr>\n",
       "      <th>0</th>\n",
       "      <td>Adult</td>\n",
       "      <td>..\\Dataset\\extracted_frames\\train\\Adult Conten...</td>\n",
       "    </tr>\n",
       "    <tr>\n",
       "      <th>1</th>\n",
       "      <td>Adult</td>\n",
       "      <td>..\\Dataset\\extracted_frames\\train\\Adult Conten...</td>\n",
       "    </tr>\n",
       "    <tr>\n",
       "      <th>2</th>\n",
       "      <td>Adult</td>\n",
       "      <td>..\\Dataset\\extracted_frames\\train\\Adult Conten...</td>\n",
       "    </tr>\n",
       "    <tr>\n",
       "      <th>3</th>\n",
       "      <td>Adult</td>\n",
       "      <td>..\\Dataset\\extracted_frames\\train\\Adult Conten...</td>\n",
       "    </tr>\n",
       "    <tr>\n",
       "      <th>4</th>\n",
       "      <td>Adult</td>\n",
       "      <td>..\\Dataset\\extracted_frames\\train\\Adult Conten...</td>\n",
       "    </tr>\n",
       "  </tbody>\n",
       "</table>\n",
       "</div>"
      ],
      "text/plain": [
       "   Label                                         Image Path\n",
       "0  Adult  ..\\Dataset\\extracted_frames\\train\\Adult Conten...\n",
       "1  Adult  ..\\Dataset\\extracted_frames\\train\\Adult Conten...\n",
       "2  Adult  ..\\Dataset\\extracted_frames\\train\\Adult Conten...\n",
       "3  Adult  ..\\Dataset\\extracted_frames\\train\\Adult Conten...\n",
       "4  Adult  ..\\Dataset\\extracted_frames\\train\\Adult Conten..."
      ]
     },
     "execution_count": 26,
     "metadata": {},
     "output_type": "execute_result"
    }
   ],
   "source": [
    "df.head()"
   ]
  },
  {
   "cell_type": "markdown",
   "metadata": {},
   "source": [
    "#### **Preprocess the images into pixels for Neural Network**"
   ]
  },
  {
   "cell_type": "code",
   "execution_count": 40,
   "metadata": {},
   "outputs": [],
   "source": [
    "# Create a directory to store preprocessed images\n",
    "os.makedirs(\"./preprocessed_imagess\", exist_ok=True)"
   ]
  },
  {
   "cell_type": "code",
   "execution_count": 8,
   "metadata": {},
   "outputs": [
    {
     "name": "stdout",
     "output_type": "stream",
     "text": [
      "Warning: File ..\\Dataset\\extracted_frames\\test\\Adult Content\\10h30.tong106thaithinh_7269825083428949253_frame_0.jpg not found.\n",
      "Warning: File ..\\Dataset\\extracted_frames\\test\\Adult Content\\1life.anthonyblane_7308721391811988742_frame_0.jpg not found.\n",
      "Warning: File ..\\Dataset\\extracted_frames\\test\\Adult Content\\aldrift455_7199249280387927322_frame_0.jpg not found.\n",
      "Warning: File ..\\Dataset\\extracted_frames\\test\\Adult Content\\aldrift455_7199249280387927322_frame_720.jpg not found.\n",
      "Warning: File ..\\Dataset\\extracted_frames\\test\\Adult Content\\am__.wt_7360945387911335176_frame_0.jpg not found.\n",
      "Warning: File ..\\Dataset\\extracted_frames\\test\\Adult Content\\am__.wt_7360945387911335176_frame_359.jpg not found.\n",
      "Warning: File ..\\Dataset\\extracted_frames\\test\\Adult Content\\andriaanastasiou_7081329958160715010_frame_0.jpg not found.\n",
      "Warning: File ..\\Dataset\\extracted_frames\\test\\Adult Content\\anhthu10054_7261538758787484929_frame_1047.jpg not found.\n",
      "Warning: File ..\\Dataset\\extracted_frames\\test\\Adult Content\\anhthu10054_7261538758787484929_frame_1396.jpg not found.\n",
      "Warning: File ..\\Dataset\\extracted_frames\\test\\Adult Content\\anhthu10054_7261538758787484929_frame_1745.jpg not found.\n",
      "Warning: File ..\\Dataset\\extracted_frames\\test\\Adult Content\\anhthu10054_7261538758787484929_frame_2094.jpg not found.\n",
      "Warning: File ..\\Dataset\\extracted_frames\\test\\Adult Content\\anhthu10054_7261538758787484929_frame_2792.jpg not found.\n",
      "Warning: File ..\\Dataset\\extracted_frames\\test\\Adult Content\\anhthu10054_7261538758787484929_frame_3141.jpg not found.\n",
      "Warning: File ..\\Dataset\\extracted_frames\\test\\Adult Content\\babiiii_mild_7373960082188537089_frame_348.jpg not found.\n",
      "Warning: File ..\\Dataset\\extracted_frames\\test\\Adult Content\\badboyschicago_7308839755289234734_frame_0.jpg not found.\n",
      "Warning: File ..\\Dataset\\extracted_frames\\test\\Adult Content\\bae1701206_7326516005662985473_frame_360.jpg not found.\n",
      "Warning: File ..\\Dataset\\extracted_frames\\test\\Adult Content\\baobeii8668_7229740446619045125_frame_0.jpg not found.\n",
      "Warning: File ..\\Dataset\\extracted_frames\\test\\Adult Content\\beautifulgirl.music_7169067694837402926_frame_0.jpg not found.\n",
      "Warning: File ..\\Dataset\\extracted_frames\\test\\Adult Content\\beusaa22_7278654329513430277_frame_0.jpg not found.\n",
      "Warning: File ..\\Dataset\\extracted_frames\\test\\Adult Content\\beusaa22_7278654329513430277_frame_357.jpg not found.\n",
      "Warning: File ..\\Dataset\\extracted_frames\\test\\Adult Content\\beusaa22_7278654329513430277_frame_714.jpg not found.\n",
      "Warning: File ..\\Dataset\\extracted_frames\\test\\Adult Content\\chelseasantosrealtor_7210113674395143467_frame_0.jpg not found.\n",
      "Warning: File ..\\Dataset\\extracted_frames\\test\\Adult Content\\chelseasantosrealtor_7210113674395143467_frame_358.jpg not found.\n",
      "Warning: File ..\\Dataset\\extracted_frames\\test\\Adult Content\\chelseasantosrealtor_7210113674395143467_frame_716.jpg not found.\n",
      "Warning: File ..\\Dataset\\extracted_frames\\test\\Adult Content\\chelseasantosrealtor_7210113674395143467_frame_1074.jpg not found.\n",
      "Warning: File ..\\Dataset\\extracted_frames\\test\\Adult Content\\chelseasantosrealtor_7210113674395143467_frame_1790.jpg not found.\n",
      "Warning: File ..\\Dataset\\extracted_frames\\test\\Adult Content\\chelseasantosrealtor_7210113674395143467_frame_2148.jpg not found.\n",
      "Warning: File ..\\Dataset\\extracted_frames\\test\\Adult Content\\chelseasantosrealtor_7210113674395143467_frame_2506.jpg not found.\n",
      "Warning: File ..\\Dataset\\extracted_frames\\test\\Adult Content\\chelseasantosrealtor_7210113674395143467_frame_2864.jpg not found.\n",
      "Warning: File ..\\Dataset\\extracted_frames\\test\\Adult Content\\chelseasantosrealtor_7210113674395143467_frame_3222.jpg not found.\n",
      "Warning: File ..\\Dataset\\extracted_frames\\test\\Adult Content\\chelseasantosrealtor_7210113674395143467_frame_3580.jpg not found.\n",
      "Warning: File ..\\Dataset\\extracted_frames\\test\\Adult Content\\chelseasantosrealtor_7210113674395143467_frame_3938.jpg not found.\n",
      "Warning: File ..\\Dataset\\extracted_frames\\test\\Adult Content\\chelseasantosrealtor_7210113674395143467_frame_4296.jpg not found.\n",
      "Warning: File ..\\Dataset\\extracted_frames\\test\\Adult Content\\chelseasantosrealtor_7210113674395143467_frame_4654.jpg not found.\n",
      "Warning: File ..\\Dataset\\extracted_frames\\test\\Adult Content\\clubloungehanoi_7359955790112820496_frame_0.jpg not found.\n",
      "Warning: File ..\\Dataset\\extracted_frames\\test\\Adult Content\\dangotongne_7294895280812592402_frame_0.jpg not found.\n",
      "Warning: File ..\\Dataset\\extracted_frames\\test\\Adult Content\\daochaubau1_7266074389517536519_frame_4680.jpg not found.\n",
      "Warning: File ..\\Dataset\\extracted_frames\\test\\Adult Content\\daochaubau1_7266074389517536519_frame_5400.jpg not found.\n",
      "Warning: File ..\\Dataset\\extracted_frames\\test\\Adult Content\\dinhthuyvlog_7258151336418594054_frame_718.jpg not found.\n",
      "Warning: File ..\\Dataset\\extracted_frames\\test\\Adult Content\\dinhthuyvlog_7262933405787032840_frame_0.jpg not found.\n",
      "Warning: File ..\\Dataset\\extracted_frames\\test\\Adult Content\\dinhthuyvlog_7279628672628215041_frame_1436.jpg not found.\n",
      "Warning: File ..\\Dataset\\extracted_frames\\test\\Adult Content\\docteurdark_7028307218936220933_frame_0.jpg not found.\n",
      "Warning: File ..\\Dataset\\extracted_frames\\test\\Adult Content\\docteurdark_7028307218936220933_frame_368.jpg not found.\n",
      "Warning: File ..\\Dataset\\extracted_frames\\test\\Adult Content\\dubby55555_7253160025663819050_frame_0.jpg not found.\n",
      "Warning: File ..\\Dataset\\extracted_frames\\test\\Adult Content\\echop_7349147470103923970_frame_0.jpg not found.\n",
      "Warning: File ..\\Dataset\\extracted_frames\\test\\Adult Content\\eli_medelesc_7067765438477847855_frame_0.jpg not found.\n",
      "Warning: File ..\\Dataset\\extracted_frames\\test\\Adult Content\\elliotmarquez1_7182744918840986885_frame_0.jpg not found.\n",
      "Warning: File ..\\Dataset\\extracted_frames\\test\\Adult Content\\elliotmarquez1_7182744918840986885_frame_360.jpg not found.\n",
      "Warning: File ..\\Dataset\\extracted_frames\\test\\Adult Content\\fanboys199_7312050341011361030_frame_0.jpg not found.\n",
      "Warning: File ..\\Dataset\\extracted_frames\\test\\Adult Content\\fanboys199_7312050341011361030_frame_360.jpg not found.\n",
      "Warning: File ..\\Dataset\\extracted_frames\\test\\Adult Content\\fanboys199_7350454866076044545_frame_0.jpg not found.\n",
      "Warning: File ..\\Dataset\\extracted_frames\\test\\Adult Content\\fanboys199_7350454866076044545_frame_359.jpg not found.\n",
      "Warning: File ..\\Dataset\\extracted_frames\\test\\Adult Content\\fanboys199_7350454866076044545_frame_718.jpg not found.\n",
      "Warning: File ..\\Dataset\\extracted_frames\\test\\Adult Content\\fanboys199_7350454866076044545_frame_1077.jpg not found.\n",
      "Warning: File ..\\Dataset\\extracted_frames\\test\\Adult Content\\fanboys199_7350454866076044545_frame_1436.jpg not found.\n",
      "Warning: File ..\\Dataset\\extracted_frames\\test\\Adult Content\\fanboys199_7350454866076044545_frame_1795.jpg not found.\n",
      "Warning: File ..\\Dataset\\extracted_frames\\test\\Adult Content\\fanboys199_7350454866076044545_frame_2154.jpg not found.\n",
      "Warning: File ..\\Dataset\\extracted_frames\\test\\Adult Content\\fanboys199_7350454866076044545_frame_2513.jpg not found.\n",
      "Warning: File ..\\Dataset\\extracted_frames\\test\\Adult Content\\fanboys199_7350454866076044545_frame_2872.jpg not found.\n",
      "Warning: File ..\\Dataset\\extracted_frames\\test\\Adult Content\\fanboys199_7350454866076044545_frame_3231.jpg not found.\n",
      "Warning: File ..\\Dataset\\extracted_frames\\test\\Adult Content\\fanboys199_7350454866076044545_frame_3590.jpg not found.\n",
      "Warning: File ..\\Dataset\\extracted_frames\\test\\Adult Content\\fanboys199_7350454866076044545_frame_3949.jpg not found.\n",
      "Warning: File ..\\Dataset\\extracted_frames\\test\\Adult Content\\fanboys199_7350454866076044545_frame_4308.jpg not found.\n",
      "Warning: File ..\\Dataset\\extracted_frames\\test\\Adult Content\\fanboys199_7350454866076044545_frame_4667.jpg not found.\n",
      "Warning: File ..\\Dataset\\extracted_frames\\test\\Adult Content\\fanboys199_7350454866076044545_frame_5026.jpg not found.\n",
      "Warning: File ..\\Dataset\\extracted_frames\\test\\Adult Content\\fatihruzgaripek_7146130642411998466_frame_0.jpg not found.\n",
      "Warning: File ..\\Dataset\\extracted_frames\\test\\Adult Content\\fatihruzgaripek_7146130642411998466_frame_360.jpg not found.\n",
      "Warning: File ..\\Dataset\\extracted_frames\\test\\Adult Content\\fatihruzgaripek_7146130642411998466_frame_720.jpg not found.\n",
      "Warning: File ..\\Dataset\\extracted_frames\\test\\Adult Content\\feelex_news_7187708516403105051_frame_0.jpg not found.\n",
      "Warning: File ..\\Dataset\\extracted_frames\\test\\Adult Content\\feelex_news_7187708516403105051_frame_359.jpg not found.\n",
      "Warning: File ..\\Dataset\\extracted_frames\\test\\Adult Content\\feelex_news_7187708516403105051_frame_718.jpg not found.\n",
      "Warning: File ..\\Dataset\\extracted_frames\\test\\Adult Content\\feelex_news_7187708516403105051_frame_1077.jpg not found.\n",
      "Warning: File ..\\Dataset\\extracted_frames\\test\\Adult Content\\feelex_news_7187708516403105051_frame_1436.jpg not found.\n",
      "Warning: File ..\\Dataset\\extracted_frames\\test\\Adult Content\\feelex_news_7187708516403105051_frame_1795.jpg not found.\n",
      "Warning: File ..\\Dataset\\extracted_frames\\test\\Adult Content\\feelex_news_7187708516403105051_frame_2154.jpg not found.\n",
      "Warning: File ..\\Dataset\\extracted_frames\\test\\Adult Content\\freeashair_7051743437267193093_frame_0.jpg not found.\n",
      "Warning: File ..\\Dataset\\extracted_frames\\test\\Adult Content\\gain.sinapong_7346603876402957586_frame_0.jpg not found.\n",
      "Warning: File ..\\Dataset\\extracted_frames\\test\\Adult Content\\gain.sinapong_7346603876402957586_frame_359.jpg not found.\n",
      "Warning: File ..\\Dataset\\extracted_frames\\test\\Adult Content\\gain.sinapong_7346603876402957586_frame_718.jpg not found.\n",
      "Warning: File ..\\Dataset\\extracted_frames\\test\\Adult Content\\gaixinh123hanoi_7258292096539364613_frame_358.jpg not found.\n",
      "Warning: File ..\\Dataset\\extracted_frames\\test\\Adult Content\\girl.bra_7275749213705604354_frame_0.jpg not found.\n",
      "Warning: File ..\\Dataset\\extracted_frames\\test\\Adult Content\\griffiths7924_7056459323781729542_frame_0.jpg not found.\n",
      "Warning: File ..\\Dataset\\extracted_frames\\test\\Adult Content\\haiprudential_7345126716823588097_frame_0.jpg not found.\n",
      "Warning: File ..\\Dataset\\extracted_frames\\test\\Adult Content\\haiprudential_7345126716823588097_frame_359.jpg not found.\n",
      "Warning: File ..\\Dataset\\extracted_frames\\test\\Adult Content\\halinhofficial_7367684791870704903_frame_0.jpg not found.\n",
      "Warning: File ..\\Dataset\\extracted_frames\\test\\Adult Content\\halinhofficial_7367684791870704903_frame_288.jpg not found.\n",
      "Warning: File ..\\Dataset\\extracted_frames\\test\\Adult Content\\halinhofficial_7367684791870704903_frame_1152.jpg not found.\n",
      "Warning: File ..\\Dataset\\extracted_frames\\test\\Adult Content\\huavanluc14_7339783181861653768_frame_342.jpg not found.\n",
      "Warning: File ..\\Dataset\\extracted_frames\\test\\Adult Content\\huavanluc14_7339783181861653768_frame_684.jpg not found.\n",
      "Warning: File ..\\Dataset\\extracted_frames\\test\\Adult Content\\huavanluc14_7339783181861653768_frame_1026.jpg not found.\n",
      "Warning: File ..\\Dataset\\extracted_frames\\test\\Adult Content\\huavanluc14_7339783181861653768_frame_3078.jpg not found.\n",
      "Warning: File ..\\Dataset\\extracted_frames\\test\\Adult Content\\hung38m1_7289110900567559431_frame_360.jpg not found.\n",
      "Warning: File ..\\Dataset\\extracted_frames\\test\\Adult Content\\hungdoan150_6853043387805879554_frame_360.jpg not found.\n",
      "Warning: File ..\\Dataset\\extracted_frames\\test\\Adult Content\\jackyfarrell_7264469590111964421_frame_0.jpg not found.\n",
      "Warning: File ..\\Dataset\\extracted_frames\\test\\Adult Content\\jackyfarrell_7264469590111964421_frame_359.jpg not found.\n",
      "Warning: File ..\\Dataset\\extracted_frames\\test\\Adult Content\\jaypark_foryou_7323981475974532357_frame_0.jpg not found.\n",
      "Warning: File ..\\Dataset\\extracted_frames\\test\\Adult Content\\jaypark_foryou_7323981475974532357_frame_1080.jpg not found.\n",
      "Warning: File ..\\Dataset\\extracted_frames\\test\\Adult Content\\jaypark_foryou_7323981475974532357_frame_1440.jpg not found.\n",
      "Warning: File ..\\Dataset\\extracted_frames\\test\\Adult Content\\jaypark_foryou_7323981475974532357_frame_1800.jpg not found.\n",
      "Warning: File ..\\Dataset\\extracted_frames\\test\\Adult Content\\johana49235_7192252382447783173_frame_0.jpg not found.\n",
      "Warning: File ..\\Dataset\\extracted_frames\\test\\Adult Content\\johnny_1706_7076120324978298117_frame_0.jpg not found.\n",
      "Warning: File ..\\Dataset\\extracted_frames\\test\\Adult Content\\khmerapsara_girl_7323234838692154656_frame_0.jpg not found.\n",
      "Warning: File ..\\Dataset\\extracted_frames\\test\\Adult Content\\khmerapsara_girl_7323234838692154656_frame_356.jpg not found.\n",
      "Warning: File ..\\Dataset\\extracted_frames\\test\\Adult Content\\kimoanhnguyen.0506_7256870241949519110_frame_0.jpg not found.\n",
      "Warning: File ..\\Dataset\\extracted_frames\\test\\Adult Content\\kimoanhnguyen.0506_7256870241949519110_frame_714.jpg not found.\n",
      "Warning: File ..\\Dataset\\extracted_frames\\test\\Adult Content\\kimsa0412_7269150915452472582_frame_0.jpg not found.\n",
      "Warning: File ..\\Dataset\\extracted_frames\\test\\Adult Content\\kimsa0412_7269150915452472582_frame_347.jpg not found.\n",
      "Warning: File ..\\Dataset\\extracted_frames\\test\\Adult Content\\kimsa0412_7269150915452472582_frame_1388.jpg not found.\n",
      "Warning: File ..\\Dataset\\extracted_frames\\test\\Adult Content\\kimsa0412_7269150915452472582_frame_1735.jpg not found.\n",
      "Warning: File ..\\Dataset\\extracted_frames\\test\\Adult Content\\kimsa0412_7269150915452472582_frame_2082.jpg not found.\n",
      "Warning: File ..\\Dataset\\extracted_frames\\test\\Adult Content\\kimsa0412_7269150915452472582_frame_2429.jpg not found.\n",
      "Warning: File ..\\Dataset\\extracted_frames\\test\\Adult Content\\kizuna_ise_7128724605807725850_frame_0.jpg not found.\n",
      "Warning: File ..\\Dataset\\extracted_frames\\test\\Adult Content\\kizuna_ise_7128724605807725850_frame_360.jpg not found.\n",
      "Warning: File ..\\Dataset\\extracted_frames\\test\\Adult Content\\kizuna_ise_7128724605807725850_frame_720.jpg not found.\n",
      "Warning: File ..\\Dataset\\extracted_frames\\test\\Adult Content\\kizuna_ise_7128724605807725850_frame_1080.jpg not found.\n",
      "Warning: File ..\\Dataset\\extracted_frames\\test\\Adult Content\\kizuna_ise_7128724605807725850_frame_1440.jpg not found.\n",
      "Warning: File ..\\Dataset\\extracted_frames\\test\\Adult Content\\ladlied_7048708678744116485_frame_0.jpg not found.\n",
      "Warning: File ..\\Dataset\\extracted_frames\\test\\Adult Content\\lalendi_7291531212873567489_frame_0.jpg not found.\n",
      "Warning: File ..\\Dataset\\extracted_frames\\test\\Adult Content\\lalendi_7291531212873567489_frame_360.jpg not found.\n",
      "Warning: File ..\\Dataset\\extracted_frames\\test\\Adult Content\\lean16894_7274884507533118728_frame_1440.jpg not found.\n",
      "Warning: File ..\\Dataset\\extracted_frames\\test\\Adult Content\\love._.jaypark_7378020382457990418_frame_0.jpg not found.\n",
      "Warning: File ..\\Dataset\\extracted_frames\\test\\Adult Content\\love._.jaypark_7378020382457990418_frame_360.jpg not found.\n",
      "Warning: File ..\\Dataset\\extracted_frames\\test\\Adult Content\\love_bikini2_7368112166630722833_frame_0.jpg not found.\n",
      "Warning: File ..\\Dataset\\extracted_frames\\test\\Adult Content\\minnthuan__7259334149146791173_frame_359.jpg not found.\n",
      "Warning: File ..\\Dataset\\extracted_frames\\test\\Adult Content\\msssmeg_7147726727303810346_frame_0.jpg not found.\n",
      "Warning: File ..\\Dataset\\extracted_frames\\test\\Adult Content\\msssmeg_7147726727303810346_frame_362.jpg not found.\n",
      "Warning: File ..\\Dataset\\extracted_frames\\test\\Adult Content\\nhacgaixinh2022_7261200188046462210_frame_720.jpg not found.\n",
      "Warning: File ..\\Dataset\\extracted_frames\\test\\Adult Content\\noire_nowaru_7209635659961748763_frame_0.jpg not found.\n",
      "Warning: File ..\\Dataset\\extracted_frames\\test\\Adult Content\\paiii2748_7365949270819671313_frame_0.jpg not found.\n",
      "Warning: File ..\\Dataset\\extracted_frames\\test\\Adult Content\\por25450925_7297542999486057733_frame_0.jpg not found.\n",
      "Warning: File ..\\Dataset\\extracted_frames\\test\\Adult Content\\pubairlines75_7238201055111105797_frame_2520.jpg not found.\n",
      "Warning: File ..\\Dataset\\extracted_frames\\test\\Adult Content\\pubairlines75_7238201055111105797_frame_2880.jpg not found.\n",
      "Warning: File ..\\Dataset\\extracted_frames\\test\\Adult Content\\pubairlines75_7238201055111105797_frame_3240.jpg not found.\n",
      "Warning: File ..\\Dataset\\extracted_frames\\test\\Adult Content\\pubairlines75_7238201055111105797_frame_3600.jpg not found.\n",
      "Warning: File ..\\Dataset\\extracted_frames\\test\\Adult Content\\pubairlines75_7238201055111105797_frame_3960.jpg not found.\n",
      "Warning: File ..\\Dataset\\extracted_frames\\test\\Adult Content\\pubairlines75_7238201055111105797_frame_4320.jpg not found.\n",
      "Warning: File ..\\Dataset\\extracted_frames\\test\\Adult Content\\pubairlines75_7330512971002645767_frame_1800.jpg not found.\n",
      "Warning: File ..\\Dataset\\extracted_frames\\test\\Adult Content\\punny199x_7382891291949960465_frame_0.jpg not found.\n",
      "Warning: File ..\\Dataset\\extracted_frames\\test\\Adult Content\\renji_anime_7079285992808549638_frame_0.jpg not found.\n",
      "Warning: File ..\\Dataset\\extracted_frames\\test\\Adult Content\\self_confidance_7244141015089564955_frame_0.jpg not found.\n",
      "Warning: File ..\\Dataset\\extracted_frames\\test\\Adult Content\\sooostrip_7013056678224563457_frame_0.jpg not found.\n",
      "Warning: File ..\\Dataset\\extracted_frames\\test\\Adult Content\\stocazzo.com..ph_6976560730082413830_frame_0.jpg not found.\n",
      "Warning: File ..\\Dataset\\extracted_frames\\test\\Adult Content\\theayang_x_7212364144924724486_frame_718.jpg not found.\n",
      "Warning: File ..\\Dataset\\extracted_frames\\test\\Adult Content\\theayang_x_7212364144924724486_frame_1077.jpg not found.\n",
      "Warning: File ..\\Dataset\\extracted_frames\\test\\Adult Content\\thichbuoihaydao2005_7158783266953252122_frame_0.jpg not found.\n",
      "Warning: File ..\\Dataset\\extracted_frames\\test\\Adult Content\\thichbuoihaydao2005_7158783266953252122_frame_360.jpg not found.\n",
      "Warning: File ..\\Dataset\\extracted_frames\\test\\Adult Content\\thichbuoihaydao2005_7158783266953252122_frame_720.jpg not found.\n",
      "Warning: File ..\\Dataset\\extracted_frames\\test\\Adult Content\\thichhuongg_7345830464504040705_frame_0.jpg not found.\n",
      "Warning: File ..\\Dataset\\extracted_frames\\test\\Adult Content\\thichhuongg_7345830464504040705_frame_361.jpg not found.\n",
      "Warning: File ..\\Dataset\\extracted_frames\\test\\Adult Content\\thichhuongg_7345830464504040705_frame_722.jpg not found.\n",
      "Warning: File ..\\Dataset\\extracted_frames\\test\\Adult Content\\thichhuongg_7345830464504040705_frame_1083.jpg not found.\n",
      "Warning: File ..\\Dataset\\extracted_frames\\test\\Adult Content\\thichhuongg_7345830464504040705_frame_1444.jpg not found.\n",
      "Warning: File ..\\Dataset\\extracted_frames\\test\\Adult Content\\thichhuongg_7345830464504040705_frame_1805.jpg not found.\n",
      "Warning: File ..\\Dataset\\extracted_frames\\test\\Adult Content\\thichhuongg_7345830464504040705_frame_2166.jpg not found.\n",
      "Warning: File ..\\Dataset\\extracted_frames\\test\\Adult Content\\thichhuongg_7345830464504040705_frame_2527.jpg not found.\n",
      "Warning: File ..\\Dataset\\extracted_frames\\test\\Adult Content\\thichhuongg_7345830464504040705_frame_2888.jpg not found.\n",
      "Warning: File ..\\Dataset\\extracted_frames\\test\\Adult Content\\thienduong68686_7306104968098942210_frame_0.jpg not found.\n",
      "Warning: File ..\\Dataset\\extracted_frames\\test\\Adult Content\\tiin.xgaming_6877486200173661441_frame_0.jpg not found.\n",
      "Warning: File ..\\Dataset\\extracted_frames\\test\\Adult Content\\tiin.xgaming_6877486200173661441_frame_287.jpg not found.\n",
      "Warning: File ..\\Dataset\\extracted_frames\\test\\Adult Content\\tiin.xgaming_6877486200173661441_frame_574.jpg not found.\n",
      "Warning: File ..\\Dataset\\extracted_frames\\test\\Adult Content\\tiin.xgaming_6877486200173661441_frame_861.jpg not found.\n",
      "Warning: File ..\\Dataset\\extracted_frames\\test\\Adult Content\\tiin.xgaming_6877486200173661441_frame_1148.jpg not found.\n",
      "Warning: File ..\\Dataset\\extracted_frames\\test\\Adult Content\\top.track.2014_7345521288800111879_frame_0.jpg not found.\n",
      "Warning: File ..\\Dataset\\extracted_frames\\test\\Adult Content\\top.track.2014_7345521288800111879_frame_548.jpg not found.\n",
      "Warning: File ..\\Dataset\\extracted_frames\\test\\Adult Content\\top.track.2014_7345521288800111879_frame_1096.jpg not found.\n",
      "Warning: File ..\\Dataset\\extracted_frames\\test\\Adult Content\\top.track.2014_7345521288800111879_frame_1644.jpg not found.\n",
      "Warning: File ..\\Dataset\\extracted_frames\\test\\Adult Content\\top.track.2014_7345521288800111879_frame_2192.jpg not found.\n",
      "Warning: File ..\\Dataset\\extracted_frames\\test\\Adult Content\\top.track.2014_7345521288800111879_frame_2740.jpg not found.\n",
      "Warning: File ..\\Dataset\\extracted_frames\\test\\Adult Content\\top.track.2014_7345521288800111879_frame_3288.jpg not found.\n",
      "Warning: File ..\\Dataset\\extracted_frames\\test\\Adult Content\\top.track.2014_7345521288800111879_frame_3836.jpg not found.\n",
      "Warning: File ..\\Dataset\\extracted_frames\\test\\Adult Content\\top.track.2014_7345521288800111879_frame_4384.jpg not found.\n",
      "Warning: File ..\\Dataset\\extracted_frames\\test\\Adult Content\\top1313_7299125554832231685_frame_360.jpg not found.\n",
      "Warning: File ..\\Dataset\\extracted_frames\\test\\Adult Content\\tranngocphuongmai_6921954148699131137_frame_0.jpg not found.\n",
      "Warning: File ..\\Dataset\\extracted_frames\\test\\Adult Content\\tranngocphuongmai_6921954148699131137_frame_288.jpg not found.\n",
      "Warning: File ..\\Dataset\\extracted_frames\\test\\Adult Content\\tranngocphuongmai_6921954148699131137_frame_576.jpg not found.\n",
      "Warning: File ..\\Dataset\\extracted_frames\\test\\Adult Content\\tranngocphuongmai_6921954148699131137_frame_864.jpg not found.\n",
      "Warning: File ..\\Dataset\\extracted_frames\\test\\Adult Content\\tranngocphuongmai_6921954148699131137_frame_1152.jpg not found.\n",
      "Warning: File ..\\Dataset\\extracted_frames\\test\\Adult Content\\tranngocphuongmai_6921954148699131137_frame_1440.jpg not found.\n",
      "Warning: File ..\\Dataset\\extracted_frames\\test\\Adult Content\\tranngocphuongmai_6921954148699131137_frame_1728.jpg not found.\n",
      "Warning: File ..\\Dataset\\extracted_frames\\test\\Adult Content\\tranngocphuongmai_6921954148699131137_frame_2016.jpg not found.\n",
      "Warning: File ..\\Dataset\\extracted_frames\\test\\Adult Content\\tranngocphuongmai_6921954148699131137_frame_2304.jpg not found.\n",
      "Warning: File ..\\Dataset\\extracted_frames\\test\\Adult Content\\tranngocphuongmai_6921954148699131137_frame_2592.jpg not found.\n",
      "Warning: File ..\\Dataset\\extracted_frames\\test\\Adult Content\\tranngocphuongmai_6921954148699131137_frame_2880.jpg not found.\n",
      "Warning: File ..\\Dataset\\extracted_frames\\test\\Adult Content\\tranngocphuongmai_6921954148699131137_frame_3168.jpg not found.\n",
      "Warning: File ..\\Dataset\\extracted_frames\\test\\Adult Content\\tranngocphuongmai_6921954148699131137_frame_3456.jpg not found.\n",
      "Warning: File ..\\Dataset\\extracted_frames\\test\\Adult Content\\tranngocphuongmai_6927570579134385410_frame_0.jpg not found.\n",
      "Warning: File ..\\Dataset\\extracted_frames\\test\\Adult Content\\tranngocphuongmai_6927570579134385410_frame_300.jpg not found.\n",
      "Warning: File ..\\Dataset\\extracted_frames\\test\\Adult Content\\tranngocphuongmai_6927570579134385410_frame_600.jpg not found.\n",
      "Warning: File ..\\Dataset\\extracted_frames\\test\\Adult Content\\tranngocphuongmai_6927570579134385410_frame_900.jpg not found.\n",
      "Warning: File ..\\Dataset\\extracted_frames\\test\\Adult Content\\tranngocphuongmai_6927570579134385410_frame_1200.jpg not found.\n",
      "Warning: File ..\\Dataset\\extracted_frames\\test\\Adult Content\\tranngocphuongmai_6927570579134385410_frame_1500.jpg not found.\n",
      "Warning: File ..\\Dataset\\extracted_frames\\test\\Adult Content\\tranngocphuongmai_6927570579134385410_frame_1800.jpg not found.\n",
      "Warning: File ..\\Dataset\\extracted_frames\\test\\Adult Content\\tranngocphuongmai_6927570579134385410_frame_2100.jpg not found.\n",
      "Warning: File ..\\Dataset\\extracted_frames\\test\\Adult Content\\tranngocphuongmai_6927570579134385410_frame_2400.jpg not found.\n",
      "Warning: File ..\\Dataset\\extracted_frames\\test\\Adult Content\\tranngocphuongmai_6927570579134385410_frame_2700.jpg not found.\n",
      "Warning: File ..\\Dataset\\extracted_frames\\test\\Adult Content\\tranngocphuongmai_6927570579134385410_frame_3000.jpg not found.\n",
      "Warning: File ..\\Dataset\\extracted_frames\\test\\Adult Content\\tranngocphuongmai_6927570579134385410_frame_3300.jpg not found.\n",
      "Warning: File ..\\Dataset\\extracted_frames\\test\\Adult Content\\tranngocphuongmai_6927570579134385410_frame_3600.jpg not found.\n",
      "Warning: File ..\\Dataset\\extracted_frames\\test\\Adult Content\\tranngocphuongmai_6927570579134385410_frame_3900.jpg not found.\n",
      "Warning: File ..\\Dataset\\extracted_frames\\test\\Adult Content\\tranngocphuongmai_6936450287989181698_frame_0.jpg not found.\n",
      "Warning: File ..\\Dataset\\extracted_frames\\test\\Adult Content\\tranngocphuongmai_6936450287989181698_frame_300.jpg not found.\n",
      "Warning: File ..\\Dataset\\extracted_frames\\test\\Adult Content\\tranngocphuongmai_6936450287989181698_frame_600.jpg not found.\n",
      "Warning: File ..\\Dataset\\extracted_frames\\test\\Adult Content\\tranngocphuongmai_6941631828038143233_frame_0.jpg not found.\n",
      "Warning: File ..\\Dataset\\extracted_frames\\test\\Adult Content\\tranngocphuongmai_6941631828038143233_frame_300.jpg not found.\n",
      "Warning: File ..\\Dataset\\extracted_frames\\test\\Adult Content\\tranngocphuongmai_6941631828038143233_frame_600.jpg not found.\n",
      "Warning: File ..\\Dataset\\extracted_frames\\test\\Adult Content\\tranngocphuongmai_6941631828038143233_frame_900.jpg not found.\n",
      "Warning: File ..\\Dataset\\extracted_frames\\test\\Adult Content\\tranngocphuongmai_6941631828038143233_frame_1200.jpg not found.\n",
      "Warning: File ..\\Dataset\\extracted_frames\\test\\Adult Content\\tranngocphuongmai_6941631828038143233_frame_1500.jpg not found.\n",
      "Warning: File ..\\Dataset\\extracted_frames\\test\\Adult Content\\tranngocphuongmai_6948995495905725698_frame_0.jpg not found.\n",
      "Warning: File ..\\Dataset\\extracted_frames\\test\\Adult Content\\tranngocphuongmai_6948995495905725698_frame_300.jpg not found.\n",
      "Warning: File ..\\Dataset\\extracted_frames\\test\\Adult Content\\tranngocphuongmai_6948995495905725698_frame_600.jpg not found.\n",
      "Warning: File ..\\Dataset\\extracted_frames\\test\\Adult Content\\tranngocphuongmai_6948995495905725698_frame_900.jpg not found.\n",
      "Warning: File ..\\Dataset\\extracted_frames\\test\\Adult Content\\tranngocphuongmai_6948995495905725698_frame_1200.jpg not found.\n",
      "Warning: File ..\\Dataset\\extracted_frames\\test\\Adult Content\\tranngocphuongmai_6948995495905725698_frame_1500.jpg not found.\n",
      "Warning: File ..\\Dataset\\extracted_frames\\test\\Adult Content\\tranngocphuongmai_6948995495905725698_frame_1800.jpg not found.\n",
      "Warning: File ..\\Dataset\\extracted_frames\\test\\Adult Content\\tranngocphuongmai_6948995495905725698_frame_2100.jpg not found.\n",
      "Warning: File ..\\Dataset\\extracted_frames\\test\\Adult Content\\tranngocphuongmai_6956903619786542337_frame_0.jpg not found.\n",
      "Warning: File ..\\Dataset\\extracted_frames\\test\\Adult Content\\tranngocphuongmai_6956903619786542337_frame_300.jpg not found.\n",
      "Warning: File ..\\Dataset\\extracted_frames\\test\\Adult Content\\tranngocphuongmai_6956903619786542337_frame_600.jpg not found.\n",
      "Warning: File ..\\Dataset\\extracted_frames\\test\\Adult Content\\tungtangcoffee_6800069218462158081_frame_0.jpg not found.\n",
      "Warning: File ..\\Dataset\\extracted_frames\\test\\Adult Content\\vochongbinhanh_7261968567980068114_frame_0.jpg not found.\n",
      "Warning: File ..\\Dataset\\extracted_frames\\test\\Adult Content\\vtv.times_7360895549215673618_frame_360.jpg not found.\n",
      "Warning: File ..\\Dataset\\extracted_frames\\test\\Adult Content\\vtv.times_7360895549215673618_frame_1440.jpg not found.\n",
      "Warning: File ..\\Dataset\\extracted_frames\\test\\Adult Content\\vuphamthaoly_6922411619842608386_frame_0.jpg not found.\n",
      "Warning: File ..\\Dataset\\extracted_frames\\test\\Adult Content\\vuphamthaoly_6922411619842608386_frame_300.jpg not found.\n",
      "Warning: File ..\\Dataset\\extracted_frames\\test\\Adult Content\\vuphamthaoly_6922411619842608386_frame_600.jpg not found.\n",
      "Warning: File ..\\Dataset\\extracted_frames\\test\\Adult Content\\vuphamthaoly_6922411619842608386_frame_900.jpg not found.\n",
      "Warning: File ..\\Dataset\\extracted_frames\\test\\Adult Content\\vuphamthaoly_6922411619842608386_frame_1200.jpg not found.\n",
      "Warning: File ..\\Dataset\\extracted_frames\\test\\Adult Content\\waicnpkc_7349122641527065857_frame_720.jpg not found.\n",
      "Warning: File ..\\Dataset\\extracted_frames\\test\\Adult Content\\wibusesatreal_7068953750957821210_frame_360.jpg not found.\n",
      "Warning: File ..\\Dataset\\extracted_frames\\test\\Adult Content\\wibusesatreal_7068953750957821210_frame_720.jpg not found.\n",
      "Warning: File ..\\Dataset\\extracted_frames\\test\\Adult Content\\wpressofficial_7305791298097679618_frame_6821.jpg not found.\n",
      "Warning: File ..\\Dataset\\extracted_frames\\test\\Adult Content\\wpressofficial_7305791298097679618_frame_7539.jpg not found.\n",
      "Warning: File ..\\Dataset\\extracted_frames\\test\\Adult Content\\wpressofficial_7305791298097679618_frame_8975.jpg not found.\n",
      "Warning: File ..\\Dataset\\extracted_frames\\test\\Adult Content\\wpressofficial_7305791298097679618_frame_9693.jpg not found.\n",
      "Warning: File ..\\Dataset\\extracted_frames\\test\\Adult Content\\wpressofficial_7305791298097679618_frame_10411.jpg not found.\n",
      "Warning: File ..\\Dataset\\extracted_frames\\test\\Adult Content\\wpressofficial_7305791298097679618_frame_11129.jpg not found.\n",
      "Warning: File ..\\Dataset\\extracted_frames\\test\\Adult Content\\wpressofficial_7305791298097679618_frame_13283.jpg not found.\n",
      "Warning: File ..\\Dataset\\extracted_frames\\test\\Adult Content\\zoday20069_7202090356769328410_frame_360.jpg not found.\n",
      "Warning: File ..\\Dataset\\extracted_frames\\test\\Adult Content\\zu_damdang_6778425113399348482_frame_0.jpg not found.\n",
      "Warning: File ..\\Dataset\\extracted_frames\\test\\Adult Content\\_pink.42_7349421964269817089_frame_718.jpg not found.\n",
      "Warning: File ..\\Dataset\\extracted_frames\\test\\Harmful Content\\0huckleberry_6923105031466061061_frame_0.jpg not found.\n",
      "Warning: File ..\\Dataset\\extracted_frames\\test\\Harmful Content\\alexei_pergande_7266857966836387115_frame_720.jpg not found.\n",
      "Warning: File ..\\Dataset\\extracted_frames\\test\\Harmful Content\\alexei_pergande_7266857966836387115_frame_1080.jpg not found.\n",
      "Warning: File ..\\Dataset\\extracted_frames\\test\\Harmful Content\\alexei_pergande_7266857966836387115_frame_1440.jpg not found.\n",
      "Warning: File ..\\Dataset\\extracted_frames\\test\\Harmful Content\\alexseguralr_6802637555553619206_frame_360.jpg not found.\n",
      "Warning: File ..\\Dataset\\extracted_frames\\test\\Harmful Content\\askinem_7291357530280709422_frame_1074.jpg not found.\n",
      "Warning: File ..\\Dataset\\extracted_frames\\test\\Harmful Content\\askinem_7291357530280709422_frame_1432.jpg not found.\n",
      "Warning: File ..\\Dataset\\extracted_frames\\test\\Harmful Content\\belva.faristha_7134242533592550682_frame_0.jpg not found.\n",
      "Warning: File ..\\Dataset\\extracted_frames\\test\\Harmful Content\\belva.faristha_7134242533592550682_frame_360.jpg not found.\n",
      "Warning: File ..\\Dataset\\extracted_frames\\test\\Harmful Content\\belva.faristha_7134242533592550682_frame_720.jpg not found.\n",
      "Warning: File ..\\Dataset\\extracted_frames\\test\\Harmful Content\\blaycewilson_7067994167472852271_frame_1440.jpg not found.\n",
      "Warning: File ..\\Dataset\\extracted_frames\\test\\Harmful Content\\bob.reese_6979418292796624134_frame_0.jpg not found.\n",
      "Warning: File ..\\Dataset\\extracted_frames\\test\\Harmful Content\\boss7.6_7200243518160260378_frame_0.jpg not found.\n",
      "Warning: File ..\\Dataset\\extracted_frames\\test\\Harmful Content\\boss7.6_7200243518160260378_frame_588.jpg not found.\n",
      "Warning: File ..\\Dataset\\extracted_frames\\test\\Harmful Content\\brennanbaby_7235686869369998597_frame_0.jpg not found.\n",
      "Warning: File ..\\Dataset\\extracted_frames\\test\\Harmful Content\\brennanbaby_7235686869369998597_frame_360.jpg not found.\n",
      "Warning: File ..\\Dataset\\extracted_frames\\test\\Harmful Content\\brodiepawson_6834103944449428741_frame_0.jpg not found.\n",
      "Warning: File ..\\Dataset\\extracted_frames\\test\\Harmful Content\\coco_samui_asmr_7018012703167876379_frame_0.jpg not found.\n",
      "Warning: File ..\\Dataset\\extracted_frames\\test\\Harmful Content\\coco_samui_asmr_7018012703167876379_frame_360.jpg not found.\n",
      "Warning: File ..\\Dataset\\extracted_frames\\test\\Harmful Content\\coco_samui_asmr_7018012703167876379_frame_720.jpg not found.\n",
      "Warning: File ..\\Dataset\\extracted_frames\\test\\Harmful Content\\codyburns555_7079989072894184747_frame_0.jpg not found.\n",
      "Warning: File ..\\Dataset\\extracted_frames\\test\\Harmful Content\\danhdeonline_7266010504890535175_frame_0.jpg not found.\n",
      "Warning: File ..\\Dataset\\extracted_frames\\test\\Harmful Content\\danny_macaskill_7150324861519318277_frame_0.jpg not found.\n",
      "Warning: File ..\\Dataset\\extracted_frames\\test\\Harmful Content\\daygo_sav_858_7200915354531532074_frame_0.jpg not found.\n",
      "Warning: File ..\\Dataset\\extracted_frames\\test\\Harmful Content\\_endyyy_sct_7213860360011402502_frame_0.jpg not found.\n",
      "Warning: File ..\\Dataset\\extracted_frames\\test\\Harmful Content\\_itznate_7361499791978908934_frame_0.jpg not found.\n",
      "Warning: File ..\\Dataset\\extracted_frames\\test\\Harmful Content\\_itznate_7361499791978908934_frame_360.jpg not found.\n",
      "Warning: File ..\\Dataset\\extracted_frames\\test\\Harmful Content\\_paris_tisdale_7146660080317074734_frame_0.jpg not found.\n",
      "Warning: File ..\\Dataset\\extracted_frames\\test\\Harmful Content\\_paris_tisdale_7146660080317074734_frame_579.jpg not found.\n",
      "Warning: File ..\\Dataset\\extracted_frames\\test\\Harmful Content\\_paris_tisdale_7146660080317074734_frame_1158.jpg not found.\n",
      "Warning: File ..\\Dataset\\extracted_frames\\test\\Harmful Content\\_toscanelucas_7229361043674369307_frame_358.jpg not found.\n",
      "Warning: File ..\\Dataset\\extracted_frames\\test\\Harmful Content\\_toscanelucas_7229361043674369307_frame_716.jpg not found.\n",
      "Warning: File ..\\Dataset\\extracted_frames\\test\\Harmful Content\\__psyd3vil_7217903344579382533_frame_0.jpg not found.\n",
      "Warning: File ..\\Dataset\\extracted_frames\\test\\Harmful Content\\__psyd3vil_7217903344579382533_frame_395.jpg not found.\n",
      "Warning: File ..\\Dataset\\extracted_frames\\test\\Harmful Content\\__psyd3vil_7217903344579382533_frame_790.jpg not found.\n",
      "Warning: File ..\\Dataset\\extracted_frames\\test\\Harmful Content\\__psyd3vil_7217903344579382533_frame_1185.jpg not found.\n",
      "Processed 16686 images and saved paths to DataFrame.\n"
     ]
    }
   ],
   "source": [
    "# Preprocess images\n",
    "def preprocess_image(image_path, save_path):\n",
    "    if os.path.exists(image_path):\n",
    "        # Read the image in BGR\n",
    "        img = cv2.imread(image_path)\n",
    "        # Convert BGR to RGB immediately\n",
    "        img = cv2.cvtColor(img, cv2.COLOR_BGR2RGB)\n",
    "        # Resize for CNN input\n",
    "        img = cv2.resize(img, (224, 224))\n",
    "        # Normalize pixel values\n",
    "        img = img / 255.0\n",
    "        \n",
    "        # Save as .npy file (now in RGB)\n",
    "        npy_path = os.path.join(save_path, os.path.basename(image_path).replace(\".jpg\", \".npy\"))\n",
    "        np.save(npy_path, img)\n",
    "        return npy_path\n",
    "    else:\n",
    "        print(f\"Warning: File {image_path} not found.\")\n",
    "        return None\n",
    "\n",
    "\n",
    "\n",
    "# Apply preprocessing\n",
    "df[\"Processed Image Path\"] = [preprocess_image(img, \"preprocessed_images\") for img in df[\"Image Path\"]]\n",
    "\n",
    "# Save updated CSV\n",
    "df.to_csv(\"../Dataset/final_dataset.csv\", index=False)\n",
    "print(f\"Processed {df['Processed Image Path'].notna().sum()} images and saved paths to DataFrame.\")"
   ]
  },
  {
   "cell_type": "code",
   "execution_count": 9,
   "metadata": {},
   "outputs": [],
   "source": [
    "# Load the CSV\n",
    "df = pd.read_csv(\"../Dataset/final_dataset.csv\")"
   ]
  },
  {
   "cell_type": "code",
   "execution_count": 10,
   "metadata": {},
   "outputs": [
    {
     "data": {
      "text/plain": [
       "np.int64(277)"
      ]
     },
     "execution_count": 10,
     "metadata": {},
     "output_type": "execute_result"
    }
   ],
   "source": [
    "df['Processed Image Path'].isna().sum()"
   ]
  },
  {
   "cell_type": "code",
   "execution_count": 38,
   "metadata": {},
   "outputs": [
    {
     "data": {
      "image/png": "[encoded data removed]",
      "text/plain": [
       "<Figure size 600x600 with 1 Axes>"
      ]
     },
     "metadata": {},
     "output_type": "display_data"
    }
   ],
   "source": [
    "# Select an image path from your dataset\n",
    "image_path = df[\"Image Path\"].iloc[15]  \n",
    "# Load the image\n",
    "img = cv2.imread(image_path)\n",
    "\n",
    "# Convert BGR to RGB (since OpenCV loads in BGR format)\n",
    "img = cv2.cvtColor(img, cv2.COLOR_BGR2RGB)\n",
    "\n",
    "# Display the image\n",
    "plt.figure(figsize=(6, 6))\n",
    "plt.imshow(img)\n",
    "plt.axis(\"off\")  \n",
    "plt.show()"
   ]
  },
  {
   "cell_type": "code",
   "execution_count": 39,
   "metadata": {},
   "outputs": [
    {
     "data": {
      "image/png": "[encoded data removed]",
      "text/plain": [
       "<Figure size 640x480 with 1 Axes>"
      ]
     },
     "metadata": {},
     "output_type": "display_data"
    }
   ],
   "source": [
    "image_path = df[\"Processed Image Path\"].iloc[15]\n",
    "img = np.load(image_path)\n",
    "plt.imshow(img)\n",
    "plt.axis(\"off\")\n",
    "plt.show()\n"
   ]
  },
  {
   "cell_type": "markdown",
   "metadata": {},
   "source": [
    "#### **`Modelling Done in Google Collab With GPUs`**"
   ]
  }
 ],
 "metadata": {
  "kernelspec": {
   "display_name": "virtual",
   "language": "python",
   "name": "python3"
  },
  "language_info": {
   "codemirror_mode": {
    "name": "ipython",
    "version": 3
   },
   "file_extension": ".py",
   "mimetype": "text/x-python",
   "name": "python",
   "nbconvert_exporter": "python",
   "pygments_lexer": "ipython3",
   "version": "3.12.6"
  }
 },
 "nbformat": 4,
 "nbformat_minor": 2
}
